{
 "cells": [
  {
   "cell_type": "markdown",
   "id": "4d3e3d54",
   "metadata": {},
   "source": [
    "input from user"
   ]
  },
  {
   "cell_type": "code",
   "execution_count": 12,
   "id": "d0e39e36",
   "metadata": {},
   "outputs": [
    {
     "name": "stdout",
     "output_type": "stream",
     "text": [
      "enter your first name: Gourav Negi\n",
      "enter your last name: Negi\n",
      "your first name is- Gourav Negi  and your last name is - Negi\n"
     ]
    }
   ],
   "source": [
    "fname = input ( \"enter your first name: \" )\n",
    "lname = input( \"enter your last name: \" )\n",
    "print( \"your first name is-\", fname, \" and your last name is -\", lname )"
   ]
  },
  {
   "cell_type": "code",
   "execution_count": 37,
   "id": "fb94f182",
   "metadata": {},
   "outputs": [
    {
     "name": "stdout",
     "output_type": "stream",
     "text": [
      "you have entered - 0 Gourav\n"
     ]
    }
   ],
   "source": [
    "print( \"you have entered -\", name, sep = \" 0 \")"
   ]
  },
  {
   "cell_type": "code",
   "execution_count": 5,
   "id": "e89f9654",
   "metadata": {},
   "outputs": [
    {
     "name": "stdout",
     "output_type": "stream",
     "text": [
      "your first name is - gourav and your last name is - negi\n"
     ]
    }
   ],
   "source": [
    "#formatted string\n",
    "print( f\"your first name is - {fname} and your last name is - {lname}\" )"
   ]
  },
  {
   "cell_type": "markdown",
   "id": "a8c1068b",
   "metadata": {},
   "source": [
    "Data Type - is a classification which tells the interpreter what kind of data a variable is holding"
   ]
  },
  {
   "cell_type": "markdown",
   "id": "4c5feceb",
   "metadata": {},
   "source": [
    "Type of Data -\n",
    "\n",
    "1-Numeric - a) int, b)float\n",
    "\n",
    "2-string\n",
    "\n",
    "3-list\n",
    "\n",
    "4-tuple\n",
    "\n",
    "5-set\n",
    "\n",
    "6-dictionary\n",
    "\n",
    "7-boolean"
   ]
  },
  {
   "cell_type": "code",
   "execution_count": 17,
   "id": "18c51ec0",
   "metadata": {},
   "outputs": [
    {
     "data": {
      "text/plain": [
       "str"
      ]
     },
     "execution_count": 17,
     "metadata": {},
     "output_type": "execute_result"
    }
   ],
   "source": [
    "name = \"Gourav\" #this variable holds String datatype\n",
    "type(name) #this function tells us about the datatype of the variable"
   ]
  },
  {
   "cell_type": "code",
   "execution_count": 19,
   "id": "20a6467d",
   "metadata": {},
   "outputs": [
    {
     "data": {
      "text/plain": [
       "int"
      ]
     },
     "execution_count": 19,
     "metadata": {},
     "output_type": "execute_result"
    }
   ],
   "source": [
    "num1 = 12\n",
    "type(num1)"
   ]
  },
  {
   "cell_type": "code",
   "execution_count": 21,
   "id": "9b9e13ac",
   "metadata": {},
   "outputs": [
    {
     "data": {
      "text/plain": [
       "float"
      ]
     },
     "execution_count": 21,
     "metadata": {},
     "output_type": "execute_result"
    }
   ],
   "source": [
    "num2 = 67.9 \n",
    "type(num2)"
   ]
  },
  {
   "cell_type": "markdown",
   "id": "44b9f328",
   "metadata": {},
   "source": [
    "comment - are used to explain code and makes the code more readable"
   ]
  },
  {
   "cell_type": "code",
   "execution_count": 22,
   "id": "09f12f9b",
   "metadata": {},
   "outputs": [
    {
     "data": {
      "text/plain": [
       "str"
      ]
     },
     "execution_count": 22,
     "metadata": {},
     "output_type": "execute_result"
    }
   ],
   "source": [
    "name = \"Gourav\" #this variable holds String datatype\n",
    "type(name) #this function tells us about the datatype of the variable"
   ]
  },
  {
   "cell_type": "markdown",
   "id": "72c4d81e",
   "metadata": {},
   "source": [
    "type conversion - converting one data type to another one"
   ]
  },
  {
   "cell_type": "code",
   "execution_count": 7,
   "id": "1c4ce86b",
   "metadata": {},
   "outputs": [
    {
     "name": "stdout",
     "output_type": "stream",
     "text": [
      "type of num1 before conversion is - <class 'str'>\n",
      "type of num1 after convertion is - <class 'int'>\n"
     ]
    }
   ],
   "source": [
    "num1 = \"23\"\n",
    "print(f\"type of num1 before conversion is - {type(num1)}\" )\n",
    "num1 = int(num1) #this will convert the string to int datatype\n",
    "print(f\"type of num1 after convertion is - {type(num1)}\" )"
   ]
  },
  {
   "cell_type": "code",
   "execution_count": 27,
   "id": "a631b3d1",
   "metadata": {},
   "outputs": [
    {
     "name": "stdout",
     "output_type": "stream",
     "text": [
      "type of num1 before conversion is - <class 'str'>\n",
      "type of num1 after convertion is - <class 'int'>\n"
     ]
    }
   ],
   "source": [
    "num1 = \"23\"\n",
    "print(f\"type of num1 before conversion is - {type(num1)}\" )\n",
    "num1 = int(num1) #this will convert the string to float datatype\n",
    "print(f\"type of num1 after convertion is - {type(num1)}\" )"
   ]
  },
  {
   "cell_type": "code",
   "execution_count": 29,
   "id": "c1d7682d",
   "metadata": {},
   "outputs": [
    {
     "name": "stdout",
     "output_type": "stream",
     "text": [
      "enter a number: 25\n",
      "enter a number: 25\n",
      "2525\n"
     ]
    }
   ],
   "source": [
    "num1 = input(\"enter a number: \") #by default the input type in python is striin\n",
    "num2 = input(\"enter a number: \")\n",
    "print(num1 + num2)"
   ]
  },
  {
   "cell_type": "code",
   "execution_count": 41,
   "id": "28031afa",
   "metadata": {},
   "outputs": [
    {
     "name": "stdout",
     "output_type": "stream",
     "text": [
      "enter a number: 25\n",
      "type of num1 is - <class 'int'>\n"
     ]
    }
   ],
   "source": [
    "num1 = int( input(\"enter a number: \")) #by default the input type in python is striin\n",
    "print(f\"type of num1 is - {type(num1)}\" )"
   ]
  },
  {
   "cell_type": "code",
   "execution_count": 48,
   "id": "0e87a387",
   "metadata": {},
   "outputs": [
    {
     "name": "stdout",
     "output_type": "stream",
     "text": [
      "enter a number25\n",
      "enter a number25\n",
      "enter a number25\n",
      "the sum of 25, 25, 25 = 75\n"
     ]
    }
   ],
   "source": [
    "#wap to take input of three number from user and print the sum of the numbers\n",
    "num1 = int( input(\"enter a number\"))\n",
    "num2 = int( input(\"enter a number\"))\n",
    "num3 = int( input(\"enter a number\"))\n",
    "print(f\"the sum of {num1}, {num2}, {num3} = {num1+num2+num3}\")"
   ]
  },
  {
   "cell_type": "markdown",
   "id": "98e25295",
   "metadata": {},
   "source": [
    "strings"
   ]
  },
  {
   "cell_type": "code",
   "execution_count": 49,
   "id": "890e9f35",
   "metadata": {},
   "outputs": [
    {
     "name": "stdout",
     "output_type": "stream",
     "text": [
      "hello world\n"
     ]
    }
   ],
   "source": [
    "print(\"hello world\")"
   ]
  },
  {
   "cell_type": "code",
   "execution_count": 56,
   "id": "b2f3b0f5",
   "metadata": {},
   "outputs": [
    {
     "name": "stdout",
     "output_type": "stream",
     "text": [
      "Rahul Said, I'll be on leave today\n"
     ]
    }
   ],
   "source": [
    "print(\"Rahul Said, I'll be on leave today\")"
   ]
  },
  {
   "cell_type": "code",
   "execution_count": 62,
   "id": "57c7d956",
   "metadata": {},
   "outputs": [
    {
     "name": "stdout",
     "output_type": "stream",
     "text": [
      "rahul said, \"I'll be on leave today\"\n"
     ]
    }
   ],
   "source": [
    "# rahul said , \"I'LL be on leave today\"\n",
    "print('''rahul said, \"I'll be on leave today\"''')"
   ]
  },
  {
   "cell_type": "code",
   "execution_count": 63,
   "id": "401602b3",
   "metadata": {},
   "outputs": [
    {
     "name": "stdout",
     "output_type": "stream",
     "text": [
      "Rahul said,\n",
      "I'll be on leave today\n"
     ]
    }
   ],
   "source": [
    "# rahul said , \n",
    "# I'LL be on leave today\n",
    "var1 = \"\"\"Rahul said,\n",
    "I'll be on leave today\"\"\"\n",
    "print(var1)"
   ]
  },
  {
   "cell_type": "markdown",
   "id": "8cae158c",
   "metadata": {},
   "source": [
    "String Length"
   ]
  },
  {
   "cell_type": "code",
   "execution_count": 110,
   "id": "f418e8c6",
   "metadata": {},
   "outputs": [
    {
     "name": "stdout",
     "output_type": "stream",
     "text": [
      "29\n"
     ]
    }
   ],
   "source": [
    "name = \"i have dog here name is robin\"\n",
    "l=len(name)\n",
    "print(l)\n"
   ]
  },
  {
   "cell_type": "markdown",
   "id": "a31d4bc1",
   "metadata": {},
   "source": [
    "check for a word or phrase in an string"
   ]
  },
  {
   "cell_type": "code",
   "execution_count": 15,
   "id": "15b2432f",
   "metadata": {},
   "outputs": [
    {
     "name": "stdout",
     "output_type": "stream",
     "text": [
      "True\n"
     ]
    }
   ],
   "source": [
    "name = \"i like to code in python\"\n",
    "namel = \"like\" in name #is willsearch for \"code\" in name and will return true or false accordingly\n",
    "print(namel)"
   ]
  },
  {
   "cell_type": "markdown",
   "id": "4bc436ce",
   "metadata": {},
   "source": [
    "indexing in string"
   ]
  },
  {
   "cell_type": "markdown",
   "id": "6e89c293",
   "metadata": {},
   "source": [
    "# Indexing"
   ]
  },
  {
   "cell_type": "code",
   "execution_count": 1,
   "id": "f5c79147",
   "metadata": {},
   "outputs": [
    {
     "name": "stdout",
     "output_type": "stream",
     "text": [
      "i\n",
      "k\n",
      "t\n"
     ]
    }
   ],
   "source": [
    "name = \"i like to code in python\"\n",
    "\n",
    "#print the first character\n",
    "#in order to print the first character the index starts from 0 and goes till len-1\n",
    "print(name[0])\n",
    "print(name[4]) #this will return the character at position 5\n",
    "print(name[7])\n",
    "\n",
    "#if index is n then position is n+1\n",
    "#if position is n then index is n-1"
   ]
  },
  {
   "cell_type": "code",
   "execution_count": 32,
   "id": "a9c1a8f9",
   "metadata": {},
   "outputs": [
    {
     "name": "stdout",
     "output_type": "stream",
     "text": [
      "i\n"
     ]
    }
   ],
   "source": [
    "abc = \"i like to code in python\"\n",
    "# print(abc[5])\n",
    "# print(abc[15])\n",
    "# print(abc[11])\n",
    "#print(abc[:])\n",
    "#print(abc[::])\n",
    "#print(abc[:0:8])\n",
    "#print(abc[0:1:])  # this 3 :colan means ,start,stop,step\n"
   ]
  },
  {
   "cell_type": "code",
   "execution_count": 21,
   "id": "d29e0ad5",
   "metadata": {},
   "outputs": [
    {
     "name": "stdout",
     "output_type": "stream",
     "text": [
      "ike to\n",
      "i like t\n",
      "to code in python\n"
     ]
    }
   ],
   "source": [
    "name= \"i like to code in python\"\n",
    "#range of values\n",
    "print(name[3:9]) #this will print characters from index 3 till n-1 i.e., 7\n",
    "print(name[:8]) #this will print characters from index 0 till n-1 i.e,. 8 as no starting index means 0\n",
    "print(name[7:]) #this will print characters from index 7 till last as no end index means last value"
   ]
  },
  {
   "cell_type": "code",
   "execution_count": 22,
   "id": "479a7b3c",
   "metadata": {},
   "outputs": [
    {
     "name": "stdout",
     "output_type": "stream",
     "text": [
      "n\n",
      "p\n"
     ]
    }
   ],
   "source": [
    "name = \"i like to code in python\"\n",
    "print(name[-1]) #this will print the last character\n",
    "print(name[-6]) #this will print the last 6th character"
   ]
  },
  {
   "cell_type": "markdown",
   "id": "0442e561",
   "metadata": {},
   "source": [
    "modify the string"
   ]
  },
  {
   "cell_type": "code",
   "execution_count": 34,
   "id": "4cccddf4",
   "metadata": {},
   "outputs": [
    {
     "name": "stdout",
     "output_type": "stream",
     "text": [
      "PYTHON IS A COMPUTER LANGUAGE\n"
     ]
    }
   ],
   "source": [
    "name = \"python is a computer language\"\n",
    "print(name.upper()) #this will convert the string to upper case"
   ]
  },
  {
   "cell_type": "code",
   "execution_count": 35,
   "id": "ef925458",
   "metadata": {},
   "outputs": [
    {
     "name": "stdout",
     "output_type": "stream",
     "text": [
      "python is the language of computer\n"
     ]
    }
   ],
   "source": [
    "name = \"PYTHON IS THE LANGUAGE OF COMPUTER\"\n",
    "print(name.lower()) #this will convert the string to upper case"
   ]
  },
  {
   "cell_type": "markdown",
   "id": "ba9722e7",
   "metadata": {},
   "source": [
    "remove whitespace from string"
   ]
  },
  {
   "cell_type": "code",
   "execution_count": 134,
   "id": "c636b52b",
   "metadata": {},
   "outputs": [
    {
     "name": "stdout",
     "output_type": "stream",
     "text": [
      "you have typed - i like to code in python, is this correct\n"
     ]
    }
   ],
   "source": [
    "name = \"     i like to code in python    \"\n",
    "print(f\"you have typed - {name.strip()}, is this correct\")"
   ]
  },
  {
   "cell_type": "markdown",
   "id": "4930e526",
   "metadata": {},
   "source": [
    "replace a word or character from a string"
   ]
  },
  {
   "cell_type": "code",
   "execution_count": 137,
   "id": "03bd48e0",
   "metadata": {},
   "outputs": [
    {
     "name": "stdout",
     "output_type": "stream",
     "text": [
      "jello korly\n"
     ]
    }
   ],
   "source": [
    "name = \"hello world\"\n",
    "name=name.replace(\"h\",\"j\").replace(\"w\",\"k\").replace(\"d\",\"y\")\n",
    "print(name)"
   ]
  },
  {
   "cell_type": "code",
   "execution_count": 49,
   "id": "52a236dd",
   "metadata": {},
   "outputs": [
    {
     "name": "stdout",
     "output_type": "stream",
     "text": [
      "jello world, jow are you, jello world,?\n"
     ]
    }
   ],
   "source": [
    "name = \"hello world, how are you, hello world,?\"\n",
    "name = name.replace(\"h\", \"j\", 3) #replace h with j but only the first occurence\n",
    "print(name)"
   ]
  },
  {
   "cell_type": "markdown",
   "id": "cadff1d3",
   "metadata": {},
   "source": [
    "split the string "
   ]
  },
  {
   "cell_type": "code",
   "execution_count": 144,
   "id": "a5986ee1",
   "metadata": {},
   "outputs": [
    {
     "data": {
      "text/plain": [
       "['hello', 'world', 'how', 'are', 'you?']"
      ]
     },
     "execution_count": 144,
     "metadata": {},
     "output_type": "execute_result"
    }
   ],
   "source": [
    "name = \"hello world how are you?\"\n",
    "name.split() #this will split the string from space, by default te split is from space"
   ]
  },
  {
   "cell_type": "code",
   "execution_count": 143,
   "id": "a8a7210d",
   "metadata": {},
   "outputs": [
    {
     "data": {
      "text/plain": [
       "['ankit', 'developer', ' 50000', ' 24']"
      ]
     },
     "execution_count": 143,
     "metadata": {},
     "output_type": "execute_result"
    }
   ],
   "source": [
    "name = \"ankit,developer, 50000, 24\"\n",
    "name.split(\",\") #this will split the string from comma"
   ]
  },
  {
   "cell_type": "markdown",
   "id": "16cd69d4",
   "metadata": {},
   "source": [
    "List"
   ]
  },
  {
   "cell_type": "markdown",
   "id": "69745106",
   "metadata": {},
   "source": [
    "1.List is used to Store multiple items of either or different datatype in a single variable\n",
    "2.list is created using square bracker []\n",
    "3.list items are ordered\n",
    "4.List allow duplicate items in it."
   ]
  },
  {
   "cell_type": "code",
   "execution_count": 148,
   "id": "4cf9817a",
   "metadata": {},
   "outputs": [
    {
     "name": "stdout",
     "output_type": "stream",
     "text": [
      "['apple', 'banana', 'mango', 'cherry', 'cherry', 'mango']\n"
     ]
    }
   ],
   "source": [
    "fruits = [\"apple\", \"banana\", \"mango\", \"cherry\", \"cherry\", \"mango\"]\n",
    "print(fruits)"
   ]
  },
  {
   "cell_type": "code",
   "execution_count": 45,
   "id": "a5f30962",
   "metadata": {},
   "outputs": [
    {
     "name": "stdout",
     "output_type": "stream",
     "text": [
      "['apple', 'banana', 2.5, 3.6, 5, 6]\n"
     ]
    }
   ],
   "source": [
    "m = [\"apple\", \"banana\", 2.5, 3.6, 5, 6 ]\n",
    "print(m)"
   ]
  },
  {
   "cell_type": "code",
   "execution_count": 47,
   "id": "ba696ee9",
   "metadata": {},
   "outputs": [
    {
     "data": {
      "text/plain": [
       "float"
      ]
     },
     "execution_count": 47,
     "metadata": {},
     "output_type": "execute_result"
    }
   ],
   "source": [
    "type(m[2])"
   ]
  },
  {
   "cell_type": "code",
   "execution_count": 1,
   "id": "f9803c1d",
   "metadata": {},
   "outputs": [
    {
     "data": {
      "text/plain": [
       "['apple', 'pineapple', 'mango', 'cherry', 'cherry', 'mango']"
      ]
     },
     "execution_count": 1,
     "metadata": {},
     "output_type": "execute_result"
    }
   ],
   "source": [
    "fruits = [\"apple\", \"banana\", \"mango\", \"cherry\", \"cherry\", \"mango\"]\n",
    "fruits[1] = \"pineapple\"\n",
    "fruits"
   ]
  },
  {
   "cell_type": "code",
   "execution_count": 60,
   "id": "169206d8",
   "metadata": {},
   "outputs": [
    {
     "data": {
      "text/plain": [
       "[85, 10, 7, 5, 58, 98, 25, 95, 87, 89, 6, 5, 2, 8, 2]"
      ]
     },
     "execution_count": 60,
     "metadata": {},
     "output_type": "execute_result"
    }
   ],
   "source": [
    "cat = [2,8,2,5,6,89,87,95,25,98,58,5,7,10,85]\n",
    "cat.reverse()\n",
    "cat"
   ]
  },
  {
   "cell_type": "code",
   "execution_count": 61,
   "id": "64bbb0dc",
   "metadata": {},
   "outputs": [
    {
     "data": {
      "text/plain": [
       "[2, 2, 5, 5, 6, 7, 8, 10, 25, 58, 85, 87, 89, 95, 98]"
      ]
     },
     "execution_count": 61,
     "metadata": {},
     "output_type": "execute_result"
    }
   ],
   "source": [
    "cat = [2,8,2,5,6,89,87,95,25,98,58,5,7,10,85]\n",
    "cat.sort()\n",
    "cat"
   ]
  },
  {
   "cell_type": "code",
   "execution_count": 3,
   "id": "c0a128c6",
   "metadata": {},
   "outputs": [
    {
     "data": {
      "text/plain": [
       "[98, 95, 89, 87, 85, 58, 25, 10, 8, 7, 6, 5, 5, 2, 2]"
      ]
     },
     "execution_count": 3,
     "metadata": {},
     "output_type": "execute_result"
    }
   ],
   "source": [
    "cat = [2,8,2,5,6,89,87,95,25,98,58,5,7,10,85]\n",
    "sorted(cat,reverse=True)"
   ]
  },
  {
   "cell_type": "code",
   "execution_count": null,
   "id": "9f8cd096",
   "metadata": {},
   "outputs": [],
   "source": []
  }
 ],
 "metadata": {
  "kernelspec": {
   "display_name": "Python 3 (ipykernel)",
   "language": "python",
   "name": "python3"
  },
  "language_info": {
   "codemirror_mode": {
    "name": "ipython",
    "version": 3
   },
   "file_extension": ".py",
   "mimetype": "text/x-python",
   "name": "python",
   "nbconvert_exporter": "python",
   "pygments_lexer": "ipython3",
   "version": "3.9.7"
  }
 },
 "nbformat": 4,
 "nbformat_minor": 5
}
