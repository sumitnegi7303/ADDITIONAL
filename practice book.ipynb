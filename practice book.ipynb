{
 "cells": [
  {
   "cell_type": "code",
   "execution_count": 3,
   "id": "26f209fb",
   "metadata": {},
   "outputs": [
    {
     "name": "stdout",
     "output_type": "stream",
     "text": [
      "enter your name:emp1\n",
      "enter tenure:8\n",
      "final salary 11000.0\n"
     ]
    }
   ],
   "source": [
    "emp_sal = {\"emp1\":10000 , \"emp2\":20000, \"emp3\": 25000}\n",
    "\n",
    "user_name = input(\"enter your name:\")\n",
    "tenure = int(input(\"enter tenure:\"))\n",
    "\n",
    "if tenure > 10:\n",
    "    bonus = emp_sal[use_name]*0.2\n",
    "elif tenure > 5:\n",
    "    bonus = emp_sal[user_name]*0.1\n",
    "else:\n",
    "    bonus = 0\n",
    "    remaining = 5-tenure\n",
    "    print(\"number of year remaining before bonus\", remaining)\n",
    "    \n",
    "print(\"final salary\", emp_sal[user_name]+bonus)"
   ]
  },
  {
   "cell_type": "code",
   "execution_count": 6,
   "id": "4c7997d2",
   "metadata": {},
   "outputs": [
    {
     "name": "stdout",
     "output_type": "stream",
     "text": [
      "enter name: emp2\n",
      "tenure: 5\n",
      "final salary 260000.0\n"
     ]
    }
   ],
   "source": [
    "emp_sal ={\"emp1\" : 100000, \"emp2\" : 200000, \"emp3\" : 300000}\n",
    "\n",
    "user_name = input(\"enter name: \")\n",
    "tenure = int(input(\"tenure: \"))\n",
    "\n",
    "if tenure > 5:\n",
    "    bonus = emp_sal[user_name]*0.5\n",
    "elif tenure > 2:\n",
    "    bonus = emp_sal[user_name]*0.3\n",
    "else:\n",
    "    bonus=0\n",
    "    print(\"number of year remaining before bonus\", remaining)\n",
    "print(\"final salary\", emp_sal[user_name]+bonus)"
   ]
  },
  {
   "cell_type": "code",
   "execution_count": 7,
   "id": "daf4e52d",
   "metadata": {},
   "outputs": [
    {
     "data": {
      "text/plain": [
       "'the vale of a is 1000, and b is 5000, and c is 2000'"
      ]
     },
     "execution_count": 7,
     "metadata": {},
     "output_type": "execute_result"
    }
   ],
   "source": [
    "#.format\n",
    "a=1000\n",
    "b=5000\n",
    "c=2000\n",
    "\"the vale of a is {}, and b is {}, and c is {}\".format(a,b,c\n",
    "                                                      )"
   ]
  },
  {
   "cell_type": "code",
   "execution_count": null,
   "id": "13a844d3",
   "metadata": {},
   "outputs": [],
   "source": [
    "#level 1 - arcade, puzzle and quiz\n",
    "#level 2 - 3 games each a1,a2, a3, p1,p2,p3,q1,q2,q3\n",
    "#level 3 - multiplayer or single"
   ]
  },
  {
   "cell_type": "code",
   "execution_count": null,
   "id": "06fa434c",
   "metadata": {},
   "outputs": [],
   "source": [
    "user_input_l1 = input(\"enter category : Arcade, puzzle, or quiz: \")\n",
    "\n",
    "if user_input_l1==\"arcade\":\n",
    "    #action\n",
    "elif user_input"
   ]
  },
  {
   "cell_type": "code",
   "execution_count": 1,
   "id": "9e598969",
   "metadata": {},
   "outputs": [
    {
     "name": "stdout",
     "output_type": "stream",
     "text": [
      "first number3\n",
      "second number4\n",
      "operation:A\n"
     ]
    }
   ],
   "source": [
    "int1 = int(input(\"first number\"))\n",
    "int2 = int(input(\"second number\"))\n",
    "operation = input(\"operation:\")"
   ]
  },
  {
   "cell_type": "code",
   "execution_count": null,
   "id": "6f5b7c53",
   "metadata": {},
   "outputs": [],
   "source": [
    "try:\n",
    "    if operation in ['+','-','*'.'/']\n",
    "    if operation=='+':\n",
    "        try:\n",
    "            answer = int1+int2\n",
    "        except:\n",
    "            print(\"\")\n",
    "    else:\n",
    "        print(\"wrong operation\")"
   ]
  },
  {
   "cell_type": "code",
   "execution_count": 3,
   "id": "9403dc45",
   "metadata": {},
   "outputs": [
    {
     "name": "stdout",
     "output_type": "stream",
     "text": [
      "enter a no3\n",
      "the sum of first n natural number is 6\n"
     ]
    }
   ],
   "source": [
    "n=int(input(\"enter a no\"))\n",
    "sum1=0\n",
    "while(n>0):\n",
    "    sum1=sum1+n\n",
    "    n=n-1\n",
    "print(\"the sum of first n natural number is\", sum1)"
   ]
  },
  {
   "cell_type": "code",
   "execution_count": 10,
   "id": "265c8ac6",
   "metadata": {},
   "outputs": [
    {
     "name": "stdout",
     "output_type": "stream",
     "text": [
      "enter a number2\n",
      "cube of 2 is 8\n"
     ]
    }
   ],
   "source": [
    "num=int(input(\"enter a number\"))\n",
    "cub=num*num*num\n",
    "print(\"cube of {} is {}\".format(num,cub))"
   ]
  },
  {
   "cell_type": "code",
   "execution_count": 16,
   "id": "776fedad",
   "metadata": {},
   "outputs": [
    {
     "name": "stdout",
     "output_type": "stream",
     "text": [
      "enter the number of intergers you want: 2\n",
      "first 2 natural number are-\n",
      "1\n",
      "2\n",
      "sum of first 2 natural number is = 3\n"
     ]
    }
   ],
   "source": [
    "#1 program\n",
    "n=int(input(\"enter the number of intergers you want: \"))\n",
    "sum_of_n=0\n",
    "print(f\"first {n} natural number are-\")\n",
    "for i in range(1,n+1):\n",
    "    print(i)\n",
    "    sum_of_n += i #this means sum_of_n = sum_of_n+i\n",
    "print(f\"sum of first {n} natural number is = {sum_of_n}\")"
   ]
  },
  {
   "cell_type": "code",
   "execution_count": 18,
   "id": "17a83145",
   "metadata": {},
   "outputs": [
    {
     "name": "stdout",
     "output_type": "stream",
     "text": [
      "enter a number of integer:2\n",
      "first 2 natural no are-\n",
      "1\n",
      "2\n",
      "sum of first 2 natural no is = 3\n"
     ]
    }
   ],
   "source": [
    "n=int(input(\"enter a number of integer:\"))\n",
    "sum_of_n=0\n",
    "print(f\"first {n} natural no are-\")\n",
    "for i in range(1,n+1):\n",
    "    print(i)\n",
    "    sum_of_n += i\n",
    "print(f\"sum of first {n} natural no is = {sum_of_n}\")"
   ]
  },
  {
   "cell_type": "code",
   "execution_count": 19,
   "id": "cad38195",
   "metadata": {},
   "outputs": [
    {
     "name": "stdout",
     "output_type": "stream",
     "text": [
      "enter a number of integer: 2\n",
      "cube of first 2 natural no are-\n",
      "cube of 1=1\n",
      "cube of 2=8\n",
      "sum of cunbe of first 2 natural number is = 8\n"
     ]
    }
   ],
   "source": [
    "n=int(input(\"enter a number of integer: \"))\n",
    "sum_of_n=0\n",
    "print(f\"cube of first {n} natural no are-\")\n",
    "for i in range(1,n+1):\n",
    "    print(f\"cube of {i}={i ** 3}\")\n",
    "    sum_of_n=i ** 3\n",
    "print(f\"sum of cunbe of first {n} natural number is = {sum_of_n}\")"
   ]
  },
  {
   "cell_type": "code",
   "execution_count": null,
   "id": "46d67979",
   "metadata": {},
   "outputs": [],
   "source": [
    "\n",
    "\n",
    "\n",
    "\n",
    "\n",
    "\n",
    "\n",
    "\n",
    "\n",
    "\n",
    "\n",
    "\n",
    "\n",
    "\n",
    "\n",
    "\n",
    "\n",
    "\n",
    "\n",
    "\n",
    "\n",
    "\n",
    "\n",
    "\n"
   ]
  }
 ],
 "metadata": {
  "kernelspec": {
   "display_name": "Python 3 (ipykernel)",
   "language": "python",
   "name": "python3"
  },
  "language_info": {
   "codemirror_mode": {
    "name": "ipython",
    "version": 3
   },
   "file_extension": ".py",
   "mimetype": "text/x-python",
   "name": "python",
   "nbconvert_exporter": "python",
   "pygments_lexer": "ipython3",
   "version": "3.9.7"
  }
 },
 "nbformat": 4,
 "nbformat_minor": 5
}
