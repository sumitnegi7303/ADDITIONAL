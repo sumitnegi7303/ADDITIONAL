{
 "cells": [
  {
   "cell_type": "code",
   "execution_count": 1,
   "id": "60e0c6f3",
   "metadata": {},
   "outputs": [],
   "source": [
    "import numpy as np"
   ]
  },
  {
   "cell_type": "code",
   "execution_count": 3,
   "id": "735e0de1",
   "metadata": {},
   "outputs": [
    {
     "name": "stdout",
     "output_type": "stream",
     "text": [
      "[1, 2, 3, 4, 5]\n",
      "[1 2 3 4 5]\n"
     ]
    }
   ],
   "source": [
    "#creating an array\n",
    "num = [1, 2, 3, 4, 5]\n",
    "arr = np.array([1, 2, 3, 4, 5]) #we are passing a list to array function\n",
    "print(num)\n",
    "print(arr)"
   ]
  },
  {
   "cell_type": "markdown",
   "id": "689b0ea7",
   "metadata": {},
   "source": [
    "Dimension array"
   ]
  },
  {
   "cell_type": "code",
   "execution_count": 7,
   "id": "271e0aa9",
   "metadata": {},
   "outputs": [
    {
     "name": "stdout",
     "output_type": "stream",
     "text": [
      "[1 2 3 4 5]\n"
     ]
    }
   ],
   "source": [
    "#creating 1 -d array \n",
    "arr_1D = np.array([1, 2, 3, 4, 5])\n",
    "print(arr_1D)"
   ]
  },
  {
   "cell_type": "code",
   "execution_count": null,
   "id": "d8d4e23f",
   "metadata": {},
   "outputs": [],
   "source": [
    "[1, 2, 3, 4, 5]\n",
    "[7, 8, 9, 10, 11]\n",
    "[5, 6, 7, 8, 9]\n",
    "[3, 5, 6, 8, 44]"
   ]
  },
  {
   "cell_type": "code",
   "execution_count": 13,
   "id": "46220840",
   "metadata": {},
   "outputs": [
    {
     "name": "stdout",
     "output_type": "stream",
     "text": [
      "[[ 1  2  3  4  5]\n",
      " [ 7  8  9 10 11]\n",
      " [ 5  6  7  8  9]\n",
      " [ 3  5  6  8 44]]\n"
     ]
    }
   ],
   "source": [
    "#creating 2 -D array\n",
    "arr_2D = np.array(\n",
    "                    [\n",
    "                      [1, 2, 3, 4, 5],\n",
    "                      [7, 8, 9, 10, 11],\n",
    "                      [5, 6, 7, 8, 9],\n",
    "                      [3, 5, 6, 8, 44] ]\n",
    ")\n",
    "print(arr_2D)"
   ]
  },
  {
   "cell_type": "code",
   "execution_count": 15,
   "id": "5d9ed29d",
   "metadata": {},
   "outputs": [
    {
     "name": "stdout",
     "output_type": "stream",
     "text": [
      "[[ 1  2  3  4  5]\n",
      " [ 7  8  9 10 11]\n",
      " [ 5  6  7  8  9]\n",
      " [ 3  5  6  8 44]]\n"
     ]
    }
   ],
   "source": [
    "#above can be written as this as well\n",
    "arr_2D = np.array([[1, 2, 3, 4, 5], [7, 8, 9, 10, 11], [5, 6, 7, 8, 9], [3, 5, 6, 8, 44]])\n",
    "print(arr_2D)"
   ]
  },
  {
   "cell_type": "code",
   "execution_count": null,
   "id": "b50275e1",
   "metadata": {},
   "outputs": [],
   "source": [
    "[[1, 2, 3, 4, 5], [7, 8, 9, 10, 11]]\n",
    "[[1, 2, 3, 4, 5], [7, 8, 9, 10, 11]]"
   ]
  },
  {
   "cell_type": "code",
   "execution_count": 16,
   "id": "8bc3b628",
   "metadata": {},
   "outputs": [
    {
     "name": "stdout",
     "output_type": "stream",
     "text": [
      "[[[ 1  2  3  4  5]\n",
      "  [ 7  8  9 10 11]]\n",
      "\n",
      " [[ 1  2  3  4  5]\n",
      "  [ 7  8  9 10 11]]]\n"
     ]
    }
   ],
   "source": [
    "#creating 3-D array\n",
    "arr_3D = np.array(\n",
    "                    [\n",
    "                        [\n",
    "                           [1, 2, 3, 4, 5],\n",
    "                           [7, 8, 9, 10, 11] \n",
    "                        ],\n",
    "                        [\n",
    "                           [1, 2, 3, 4, 5],\n",
    "                           [7, 8, 9, 10, 11] \n",
    "                        ],\n",
    "                    ]\n",
    ")\n",
    "print(arr_3D)"
   ]
  },
  {
   "cell_type": "code",
   "execution_count": 20,
   "id": "452587b5",
   "metadata": {},
   "outputs": [
    {
     "name": "stdout",
     "output_type": "stream",
     "text": [
      "[[[ 1  2  3  4  5]\n",
      "  [ 7  8  9 10 11]]\n",
      "\n",
      " [[ 1  2  3  4  5]\n",
      "  [ 7  8  9 10 11]]]\n"
     ]
    }
   ],
   "source": [
    "#above can be written as this as well\n",
    "arr_3D = np.array( [ [ [1, 2, 3, 4, 5], [7, 8, 9, 10, 11] ], [ [1, 2, 3, 4, 5], [7, 8, 9, 10, 11] ] ] )\n",
    "print(arr_3D)"
   ]
  },
  {
   "cell_type": "code",
   "execution_count": 21,
   "id": "8c61dcab",
   "metadata": {},
   "outputs": [
    {
     "data": {
      "text/plain": [
       "[[[1, 2, 3, 4, 5], [7, 8, 9, 10, 11]], [[1, 2, 3, 4, 5], [7, 8, 9, 10, 11]]]"
      ]
     },
     "execution_count": 21,
     "metadata": {},
     "output_type": "execute_result"
    }
   ],
   "source": [
    "[ [ [1, 2, 3, 4, 5], [7, 8, 9, 10, 11] ], [ [1, 2, 3, 4, 5], [7, 8, 9, 10, 11] ] ]"
   ]
  },
  {
   "cell_type": "code",
   "execution_count": 22,
   "id": "59a82da3",
   "metadata": {},
   "outputs": [],
   "source": [
    "#create a 1-d array with 4 elements\n",
    "#create a 2-d array with 3 rows and 5 elements\n",
    "#create a 3-d array with 3 rows and 4 elements"
   ]
  },
  {
   "cell_type": "code",
   "execution_count": 32,
   "id": "1b5dce15",
   "metadata": {},
   "outputs": [
    {
     "name": "stdout",
     "output_type": "stream",
     "text": [
      "[1 2 3 5]\n"
     ]
    }
   ],
   "source": [
    "#create a 1-d array with 4 elements\n",
    "\n",
    "arr_1D = np.array([1, 2, 3, 5,])\n",
    "print(arr_1D)"
   ]
  },
  {
   "cell_type": "code",
   "execution_count": 33,
   "id": "3fcf595e",
   "metadata": {},
   "outputs": [
    {
     "name": "stdout",
     "output_type": "stream",
     "text": [
      "[[1 2 3 5]\n",
      " [5 4 2 8]\n",
      " [8 2 0 7]]\n"
     ]
    }
   ],
   "source": [
    "#create a 2-d array with 4 elements\n",
    "\n",
    "arr_2D = np.array(\n",
    "                      [\n",
    "                        [1, 2, 3, 5, 6],\n",
    "                        [5, 4, 2, 8, 7],\n",
    "                        [8, 2, 0, 7, 9] \n",
    "                      ] \n",
    ")\n",
    "print(arr_2D)"
   ]
  },
  {
   "cell_type": "code",
   "execution_count": 34,
   "id": "ecf8aac6",
   "metadata": {},
   "outputs": [
    {
     "name": "stdout",
     "output_type": "stream",
     "text": [
      "[[[1 2 3 5]\n",
      "  [5 4 2 8]\n",
      "  [8 2 0 7]]]\n"
     ]
    }
   ],
   "source": [
    "#create a 3-d array with 4 elements\n",
    "\n",
    "arr_3D = np.array(\n",
    "                      [\n",
    "                        [\n",
    "                           [1, 2, 3, 5,],\n",
    "                           [5, 4, 2, 8,],\n",
    "                           [8, 2, 0, 7,] \n",
    "                      ]\n",
    "                    ]\n",
    "    \n",
    ")\n",
    "print(arr_3D)"
   ]
  },
  {
   "cell_type": "markdown",
   "id": "1dfbb996",
   "metadata": {},
   "source": [
    "check the number of dimension"
   ]
  },
  {
   "cell_type": "markdown",
   "id": "c9697123",
   "metadata": {},
   "source": [
    "checking the datatype of element in an array"
   ]
  },
  {
   "cell_type": "code",
   "execution_count": 27,
   "id": "dde7fadf",
   "metadata": {},
   "outputs": [
    {
     "ename": "NameError",
     "evalue": "name 'np' is not defined",
     "output_type": "error",
     "traceback": [
      "\u001b[1;31m---------------------------------------------------------------------------\u001b[0m",
      "\u001b[1;31mNameError\u001b[0m                                 Traceback (most recent call last)",
      "\u001b[1;32mC:\\Users\\GOURAV~1\\AppData\\Local\\Temp/ipykernel_17784/2073191027.py\u001b[0m in \u001b[0;36m<module>\u001b[1;34m\u001b[0m\n\u001b[1;32m----> 1\u001b[1;33m \u001b[0marr\u001b[0m \u001b[1;33m=\u001b[0m \u001b[0mnp\u001b[0m\u001b[1;33m.\u001b[0m\u001b[0marray\u001b[0m\u001b[1;33m(\u001b[0m\u001b[1;33m[\u001b[0m\u001b[1;36m1\u001b[0m\u001b[1;33m,\u001b[0m \u001b[1;36m2\u001b[0m\u001b[1;33m,\u001b[0m \u001b[1;36m3\u001b[0m\u001b[1;33m,\u001b[0m \u001b[1;36m4\u001b[0m\u001b[1;33m,\u001b[0m \u001b[1;36m5\u001b[0m\u001b[1;33m]\u001b[0m\u001b[1;33m)\u001b[0m\u001b[1;33m\u001b[0m\u001b[1;33m\u001b[0m\u001b[0m\n\u001b[0m\u001b[0;32m      2\u001b[0m \u001b[1;33m\u001b[0m\u001b[0m\n\u001b[0;32m      3\u001b[0m \u001b[0mnew_arr\u001b[0m \u001b[1;33m=\u001b[0m \u001b[0mnp\u001b[0m\u001b[1;33m.\u001b[0m\u001b[0marray_split\u001b[0m\u001b[1;33m(\u001b[0m\u001b[0marr\u001b[0m\u001b[1;33m,\u001b[0m \u001b[1;36m3\u001b[0m\u001b[1;33m)\u001b[0m \u001b[1;31m#ve pass on the main array and also the number into which we want that\u001b[0m\u001b[1;33m\u001b[0m\u001b[1;33m\u001b[0m\u001b[0m\n\u001b[0;32m      4\u001b[0m \u001b[1;31m#array to be splitted\u001b[0m\u001b[1;33m\u001b[0m\u001b[1;33m\u001b[0m\u001b[0m\n\u001b[0;32m      5\u001b[0m \u001b[0mnew_arr\u001b[0m\u001b[1;33m\u001b[0m\u001b[1;33m\u001b[0m\u001b[0m\n",
      "\u001b[1;31mNameError\u001b[0m: name 'np' is not defined"
     ]
    }
   ],
   "source": [
    "arr = np.array([1, 2, 3, 4, 5])\n",
    "\n",
    "new_arr = np.array_split(arr, 3) #ve pass on the main array and also the number into which we want that \n",
    "#array to be splitted\n",
    "new_arr\n"
   ]
  },
  {
   "cell_type": "markdown",
   "id": "99514284",
   "metadata": {},
   "source": [
    "# pandas"
   ]
  },
  {
   "cell_type": "code",
   "execution_count": 12,
   "id": "a8a99d67",
   "metadata": {},
   "outputs": [],
   "source": [
    "import pandas as pd"
   ]
  },
  {
   "cell_type": "code",
   "execution_count": 22,
   "id": "5189c5b2",
   "metadata": {},
   "outputs": [],
   "source": [
    "data = {\n",
    "         \"name\" : [\"ankit\", \"anuj\", \"aman\", \"aditya\"],\n",
    "         \"age\" : [\"23\", \"25\", \"26\", \"65\"],\n",
    "         \"designation\" : [ \"developers\", \"hr\", \"tester\", \"anylist\" ]\n",
    "}"
   ]
  },
  {
   "cell_type": "code",
   "execution_count": 24,
   "id": "699457c3",
   "metadata": {},
   "outputs": [
    {
     "data": {
      "text/html": [
       "<div>\n",
       "<style scoped>\n",
       "    .dataframe tbody tr th:only-of-type {\n",
       "        vertical-align: middle;\n",
       "    }\n",
       "\n",
       "    .dataframe tbody tr th {\n",
       "        vertical-align: top;\n",
       "    }\n",
       "\n",
       "    .dataframe thead th {\n",
       "        text-align: right;\n",
       "    }\n",
       "</style>\n",
       "<table border=\"1\" class=\"dataframe\">\n",
       "  <thead>\n",
       "    <tr style=\"text-align: right;\">\n",
       "      <th></th>\n",
       "      <th>name</th>\n",
       "      <th>age</th>\n",
       "      <th>designation</th>\n",
       "    </tr>\n",
       "  </thead>\n",
       "  <tbody>\n",
       "    <tr>\n",
       "      <th>0</th>\n",
       "      <td>ankit</td>\n",
       "      <td>23</td>\n",
       "      <td>developers</td>\n",
       "    </tr>\n",
       "    <tr>\n",
       "      <th>1</th>\n",
       "      <td>anuj</td>\n",
       "      <td>25</td>\n",
       "      <td>hr</td>\n",
       "    </tr>\n",
       "    <tr>\n",
       "      <th>2</th>\n",
       "      <td>aman</td>\n",
       "      <td>26</td>\n",
       "      <td>tester</td>\n",
       "    </tr>\n",
       "    <tr>\n",
       "      <th>3</th>\n",
       "      <td>aditya</td>\n",
       "      <td>65</td>\n",
       "      <td>anylist</td>\n",
       "    </tr>\n",
       "  </tbody>\n",
       "</table>\n",
       "</div>"
      ],
      "text/plain": [
       "     name age designation\n",
       "0   ankit  23  developers\n",
       "1    anuj  25          hr\n",
       "2    aman  26      tester\n",
       "3  aditya  65     anylist"
      ]
     },
     "execution_count": 24,
     "metadata": {},
     "output_type": "execute_result"
    }
   ],
   "source": [
    "#convert a dictionary into table\n",
    "#dataframe -> is a table with rows and columns\n",
    "\n",
    "df = pd.DataFrame(data)````````b\n",
    "df"
   ]
  },
  {
   "cell_type": "code",
   "execution_count": 4,
   "id": "aeb05217",
   "metadata": {},
   "outputs": [],
   "source": [
    "data = {\n",
    "         \"name\" : [\"ankit\", \"anuj\", \"aman\", \"aditya\"],\n",
    "         \"age\" : [\"23\", \"25\", \"26\", \"65\"],\n",
    "         \"salary\" : [\"12k\", \"25k\", \"35k\", \"45k\"],\n",
    "         \"designation\" : [ \"developers\", \"hr\", \"tester\", \"anylist\" ]\n",
    "}"
   ]
  },
  {
   "cell_type": "code",
   "execution_count": 8,
   "id": "3d614f05",
   "metadata": {},
   "outputs": [
    {
     "data": {
      "text/html": [
       "<div>\n",
       "<style scoped>\n",
       "    .dataframe tbody tr th:only-of-type {\n",
       "        vertical-align: middle;\n",
       "    }\n",
       "\n",
       "    .dataframe tbody tr th {\n",
       "        vertical-align: top;\n",
       "    }\n",
       "\n",
       "    .dataframe thead th {\n",
       "        text-align: right;\n",
       "    }\n",
       "</style>\n",
       "<table border=\"1\" class=\"dataframe\">\n",
       "  <thead>\n",
       "    <tr style=\"text-align: right;\">\n",
       "      <th></th>\n",
       "      <th>name</th>\n",
       "      <th>age</th>\n",
       "      <th>salary</th>\n",
       "      <th>designation</th>\n",
       "    </tr>\n",
       "  </thead>\n",
       "  <tbody>\n",
       "    <tr>\n",
       "      <th>0</th>\n",
       "      <td>ankit</td>\n",
       "      <td>23</td>\n",
       "      <td>12k</td>\n",
       "      <td>developers</td>\n",
       "    </tr>\n",
       "    <tr>\n",
       "      <th>1</th>\n",
       "      <td>anuj</td>\n",
       "      <td>25</td>\n",
       "      <td>25k</td>\n",
       "      <td>hr</td>\n",
       "    </tr>\n",
       "    <tr>\n",
       "      <th>2</th>\n",
       "      <td>aman</td>\n",
       "      <td>26</td>\n",
       "      <td>35k</td>\n",
       "      <td>tester</td>\n",
       "    </tr>\n",
       "    <tr>\n",
       "      <th>3</th>\n",
       "      <td>aditya</td>\n",
       "      <td>65</td>\n",
       "      <td>45k</td>\n",
       "      <td>anylist</td>\n",
       "    </tr>\n",
       "  </tbody>\n",
       "</table>\n",
       "</div>"
      ],
      "text/plain": [
       "     name age salary designation\n",
       "0   ankit  23    12k  developers\n",
       "1    anuj  25    25k          hr\n",
       "2    aman  26    35k      tester\n",
       "3  aditya  65    45k     anylist"
      ]
     },
     "execution_count": 8,
     "metadata": {},
     "output_type": "execute_result"
    }
   ],
   "source": [
    "df = pd.DataFrame(data)\n",
    "df"
   ]
  },
  {
   "cell_type": "code",
   "execution_count": 9,
   "id": "f89aeba5",
   "metadata": {},
   "outputs": [],
   "source": [
    "import matplotlib.pyplot as plt"
   ]
  },
  {
   "cell_type": "code",
   "execution_count": 11,
   "id": "c1ade211",
   "metadata": {},
   "outputs": [
    {
     "data": {
      "text/html": [
       "<div>\n",
       "<style scoped>\n",
       "    .dataframe tbody tr th:only-of-type {\n",
       "        vertical-align: middle;\n",
       "    }\n",
       "\n",
       "    .dataframe tbody tr th {\n",
       "        vertical-align: top;\n",
       "    }\n",
       "\n",
       "    .dataframe thead th {\n",
       "        text-align: right;\n",
       "    }\n",
       "</style>\n",
       "<table border=\"1\" class=\"dataframe\">\n",
       "  <thead>\n",
       "    <tr style=\"text-align: right;\">\n",
       "      <th></th>\n",
       "      <th>name</th>\n",
       "      <th>age</th>\n",
       "      <th>salary</th>\n",
       "      <th>designation</th>\n",
       "    </tr>\n",
       "  </thead>\n",
       "  <tbody>\n",
       "    <tr>\n",
       "      <th>0</th>\n",
       "      <td>ankit</td>\n",
       "      <td>23</td>\n",
       "      <td>12k</td>\n",
       "      <td>developers</td>\n",
       "    </tr>\n",
       "    <tr>\n",
       "      <th>1</th>\n",
       "      <td>anuj</td>\n",
       "      <td>25</td>\n",
       "      <td>25k</td>\n",
       "      <td>hr</td>\n",
       "    </tr>\n",
       "    <tr>\n",
       "      <th>2</th>\n",
       "      <td>aman</td>\n",
       "      <td>26</td>\n",
       "      <td>35k</td>\n",
       "      <td>tester</td>\n",
       "    </tr>\n",
       "    <tr>\n",
       "      <th>3</th>\n",
       "      <td>aditya</td>\n",
       "      <td>65</td>\n",
       "      <td>45k</td>\n",
       "      <td>anylist</td>\n",
       "    </tr>\n",
       "  </tbody>\n",
       "</table>\n",
       "</div>"
      ],
      "text/plain": [
       "     name age salary designation\n",
       "0   ankit  23    12k  developers\n",
       "1    anuj  25    25k          hr\n",
       "2    aman  26    35k      tester\n",
       "3  aditya  65    45k     anylist"
      ]
     },
     "execution_count": 11,
     "metadata": {},
     "output_type": "execute_result"
    }
   ],
   "source": [
    "df"
   ]
  },
  {
   "cell_type": "code",
   "execution_count": 12,
   "id": "5515a396",
   "metadata": {},
   "outputs": [],
   "source": [
    "import matplotlib.pyplot as plt"
   ]
  },
  {
   "cell_type": "code",
   "execution_count": 14,
   "id": "0a9c6f53",
   "metadata": {},
   "outputs": [
    {
     "data": {
      "image/png": "[encoded data removed]",
      "text/plain": [
       "<Figure size 576x432 with 1 Axes>"
      ]
     },
     "metadata": {
      "needs_background": "light"
     },
     "output_type": "display_data"
    }
   ],
   "source": [
    "#plot a line chart\n",
    "x = df[\"name\"]\n",
    "y = df[\"designation\"]\n",
    "\n",
    "plt.figure(figsize = (8, 6)) #figsize = (x-axis length, y-axis length )\n",
    "plt.plot(x, y, color = \"orange\", marker = \"p\" )\n",
    "plt.title(\"designation\", color = \"purple\")\n",
    "plt.xlabel(\"name\", color = \"red\")\n",
    "plt.ylabel(\"designation\", color = \"green\")\n",
    "plt.show()"
   ]
  },
  {
   "cell_type": "code",
   "execution_count": null,
   "id": "470f93a6",
   "metadata": {},
   "outputs": [],
   "source": []
  },
  {
   "cell_type": "markdown",
   "id": "b25fa6d4",
   "metadata": {},
   "source": [
    "locate a row"
   ]
  },
  {
   "cell_type": "code",
   "execution_count": 25,
   "id": "3623be0a",
   "metadata": {},
   "outputs": [
    {
     "data": {
      "text/plain": [
       "name             aman\n",
       "age                26\n",
       "designation    tester\n",
       "Name: 2, dtype: object"
      ]
     },
     "execution_count": 25,
     "metadata": {},
     "output_type": "execute_result"
    }
   ],
   "source": [
    "df.loc[2]"
   ]
  },
  {
   "cell_type": "code",
   "execution_count": 33,
   "id": "4ab92010",
   "metadata": {},
   "outputs": [
    {
     "data": {
      "text/html": [
       "<div>\n",
       "<style scoped>\n",
       "    .dataframe tbody tr th:only-of-type {\n",
       "        vertical-align: middle;\n",
       "    }\n",
       "\n",
       "    .dataframe tbody tr th {\n",
       "        vertical-align: top;\n",
       "    }\n",
       "\n",
       "    .dataframe thead th {\n",
       "        text-align: right;\n",
       "    }\n",
       "</style>\n",
       "<table border=\"1\" class=\"dataframe\">\n",
       "  <thead>\n",
       "    <tr style=\"text-align: right;\">\n",
       "      <th></th>\n",
       "      <th>name</th>\n",
       "      <th>age</th>\n",
       "      <th>salary</th>\n",
       "      <th>designation</th>\n",
       "    </tr>\n",
       "  </thead>\n",
       "  <tbody>\n",
       "    <tr>\n",
       "      <th>0</th>\n",
       "      <td>sumit</td>\n",
       "      <td>19</td>\n",
       "      <td>10.5k</td>\n",
       "      <td>analyst</td>\n",
       "    </tr>\n",
       "    <tr>\n",
       "      <th>1</th>\n",
       "      <td>akash</td>\n",
       "      <td>22</td>\n",
       "      <td>5.5k</td>\n",
       "      <td>hr</td>\n",
       "    </tr>\n",
       "    <tr>\n",
       "      <th>2</th>\n",
       "      <td>ankit</td>\n",
       "      <td>26</td>\n",
       "      <td>6.8k</td>\n",
       "      <td>engginer</td>\n",
       "    </tr>\n",
       "  </tbody>\n",
       "</table>\n",
       "</div>"
      ],
      "text/plain": [
       "    name age salary designation\n",
       "0  sumit  19  10.5k     analyst\n",
       "1  akash  22   5.5k          hr\n",
       "2  ankit  26   6.8k    engginer"
      ]
     },
     "execution_count": 33,
     "metadata": {},
     "output_type": "execute_result"
    }
   ],
   "source": [
    "#create a table with 5 rows and 4 columns (name, age, salary, designation)\n",
    "\n",
    "data = {\n",
    "        \"name\" : [\"sumit\", \"akash\", \"ankit\"],\n",
    "        \"age\" : [\"19\", \"22\", \"26\"],\n",
    "        \"salary\" : [\"10.5k\", \"5.5k\", \"6.8k\"],\n",
    "        \"designation\" : [\"analyst\", \"hr\", \"engginer\"]\n",
    "}\n",
    "df = pd.DataFrame(data)\n",
    "df"
   ]
  },
  {
   "cell_type": "code",
   "execution_count": 62,
   "id": "3a84f049",
   "metadata": {},
   "outputs": [
    {
     "data": {
      "text/html": [
       "<div>\n",
       "<style scoped>\n",
       "    .dataframe tbody tr th:only-of-type {\n",
       "        vertical-align: middle;\n",
       "    }\n",
       "\n",
       "    .dataframe tbody tr th {\n",
       "        vertical-align: top;\n",
       "    }\n",
       "\n",
       "    .dataframe thead th {\n",
       "        text-align: right;\n",
       "    }\n",
       "</style>\n",
       "<table border=\"1\" class=\"dataframe\">\n",
       "  <thead>\n",
       "    <tr style=\"text-align: right;\">\n",
       "      <th></th>\n",
       "      <th>Name</th>\n",
       "      <th>Team</th>\n",
       "      <th>Number</th>\n",
       "      <th>Position</th>\n",
       "      <th>Age</th>\n",
       "      <th>Height</th>\n",
       "      <th>Weight</th>\n",
       "      <th>College</th>\n",
       "      <th>Salary</th>\n",
       "    </tr>\n",
       "  </thead>\n",
       "  <tbody>\n",
       "    <tr>\n",
       "      <th>0</th>\n",
       "      <td>Avery Bradley</td>\n",
       "      <td>Boston Celtics</td>\n",
       "      <td>0.0</td>\n",
       "      <td>PG</td>\n",
       "      <td>25.0</td>\n",
       "      <td>6-2</td>\n",
       "      <td>180.0</td>\n",
       "      <td>Texas</td>\n",
       "      <td>7730337.0</td>\n",
       "    </tr>\n",
       "    <tr>\n",
       "      <th>1</th>\n",
       "      <td>Jae Crowder</td>\n",
       "      <td>Boston Celtics</td>\n",
       "      <td>99.0</td>\n",
       "      <td>SF</td>\n",
       "      <td>25.0</td>\n",
       "      <td>6-6</td>\n",
       "      <td>235.0</td>\n",
       "      <td>Marquette</td>\n",
       "      <td>6796117.0</td>\n",
       "    </tr>\n",
       "    <tr>\n",
       "      <th>2</th>\n",
       "      <td>John Holland</td>\n",
       "      <td>Boston Celtics</td>\n",
       "      <td>30.0</td>\n",
       "      <td>SG</td>\n",
       "      <td>27.0</td>\n",
       "      <td>6-5</td>\n",
       "      <td>205.0</td>\n",
       "      <td>Boston University</td>\n",
       "      <td>NaN</td>\n",
       "    </tr>\n",
       "    <tr>\n",
       "      <th>3</th>\n",
       "      <td>R.J. Hunter</td>\n",
       "      <td>Boston Celtics</td>\n",
       "      <td>28.0</td>\n",
       "      <td>SG</td>\n",
       "      <td>22.0</td>\n",
       "      <td>6-5</td>\n",
       "      <td>185.0</td>\n",
       "      <td>Georgia State</td>\n",
       "      <td>1148640.0</td>\n",
       "    </tr>\n",
       "    <tr>\n",
       "      <th>4</th>\n",
       "      <td>Jonas Jerebko</td>\n",
       "      <td>Boston Celtics</td>\n",
       "      <td>8.0</td>\n",
       "      <td>PF</td>\n",
       "      <td>29.0</td>\n",
       "      <td>6-10</td>\n",
       "      <td>231.0</td>\n",
       "      <td>NaN</td>\n",
       "      <td>5000000.0</td>\n",
       "    </tr>\n",
       "    <tr>\n",
       "      <th>...</th>\n",
       "      <td>...</td>\n",
       "      <td>...</td>\n",
       "      <td>...</td>\n",
       "      <td>...</td>\n",
       "      <td>...</td>\n",
       "      <td>...</td>\n",
       "      <td>...</td>\n",
       "      <td>...</td>\n",
       "      <td>...</td>\n",
       "    </tr>\n",
       "    <tr>\n",
       "      <th>453</th>\n",
       "      <td>Shelvin Mack</td>\n",
       "      <td>Utah Jazz</td>\n",
       "      <td>8.0</td>\n",
       "      <td>PG</td>\n",
       "      <td>26.0</td>\n",
       "      <td>6-3</td>\n",
       "      <td>203.0</td>\n",
       "      <td>Butler</td>\n",
       "      <td>2433333.0</td>\n",
       "    </tr>\n",
       "    <tr>\n",
       "      <th>454</th>\n",
       "      <td>Raul Neto</td>\n",
       "      <td>Utah Jazz</td>\n",
       "      <td>25.0</td>\n",
       "      <td>PG</td>\n",
       "      <td>24.0</td>\n",
       "      <td>6-1</td>\n",
       "      <td>179.0</td>\n",
       "      <td>NaN</td>\n",
       "      <td>900000.0</td>\n",
       "    </tr>\n",
       "    <tr>\n",
       "      <th>455</th>\n",
       "      <td>Tibor Pleiss</td>\n",
       "      <td>Utah Jazz</td>\n",
       "      <td>21.0</td>\n",
       "      <td>C</td>\n",
       "      <td>26.0</td>\n",
       "      <td>7-3</td>\n",
       "      <td>256.0</td>\n",
       "      <td>NaN</td>\n",
       "      <td>2900000.0</td>\n",
       "    </tr>\n",
       "    <tr>\n",
       "      <th>456</th>\n",
       "      <td>Jeff Withey</td>\n",
       "      <td>Utah Jazz</td>\n",
       "      <td>24.0</td>\n",
       "      <td>C</td>\n",
       "      <td>26.0</td>\n",
       "      <td>7-0</td>\n",
       "      <td>231.0</td>\n",
       "      <td>Kansas</td>\n",
       "      <td>947276.0</td>\n",
       "    </tr>\n",
       "    <tr>\n",
       "      <th>457</th>\n",
       "      <td>NaN</td>\n",
       "      <td>NaN</td>\n",
       "      <td>NaN</td>\n",
       "      <td>NaN</td>\n",
       "      <td>NaN</td>\n",
       "      <td>NaN</td>\n",
       "      <td>NaN</td>\n",
       "      <td>NaN</td>\n",
       "      <td>NaN</td>\n",
       "    </tr>\n",
       "  </tbody>\n",
       "</table>\n",
       "<p>458 rows × 9 columns</p>\n",
       "</div>"
      ],
      "text/plain": [
       "              Name            Team  Number Position   Age Height  Weight  \\\n",
       "0    Avery Bradley  Boston Celtics     0.0       PG  25.0    6-2   180.0   \n",
       "1      Jae Crowder  Boston Celtics    99.0       SF  25.0    6-6   235.0   \n",
       "2     John Holland  Boston Celtics    30.0       SG  27.0    6-5   205.0   \n",
       "3      R.J. Hunter  Boston Celtics    28.0       SG  22.0    6-5   185.0   \n",
       "4    Jonas Jerebko  Boston Celtics     8.0       PF  29.0   6-10   231.0   \n",
       "..             ...             ...     ...      ...   ...    ...     ...   \n",
       "453   Shelvin Mack       Utah Jazz     8.0       PG  26.0    6-3   203.0   \n",
       "454      Raul Neto       Utah Jazz    25.0       PG  24.0    6-1   179.0   \n",
       "455   Tibor Pleiss       Utah Jazz    21.0        C  26.0    7-3   256.0   \n",
       "456    Jeff Withey       Utah Jazz    24.0        C  26.0    7-0   231.0   \n",
       "457            NaN             NaN     NaN      NaN   NaN    NaN     NaN   \n",
       "\n",
       "               College     Salary  \n",
       "0                Texas  7730337.0  \n",
       "1            Marquette  6796117.0  \n",
       "2    Boston University        NaN  \n",
       "3        Georgia State  1148640.0  \n",
       "4                  NaN  5000000.0  \n",
       "..                 ...        ...  \n",
       "453             Butler  2433333.0  \n",
       "454                NaN   900000.0  \n",
       "455                NaN  2900000.0  \n",
       "456             Kansas   947276.0  \n",
       "457                NaN        NaN  \n",
       "\n",
       "[458 rows x 9 columns]"
      ]
     },
     "execution_count": 62,
     "metadata": {},
     "output_type": "execute_result"
    }
   ],
   "source": [
    "import pandas as pd\n",
    "\n",
    "df_1 = pd.read_csv(\"D:\\\\aiml\\\\codes\\\\nba.csv\")\n",
    "df_1"
   ]
  },
  {
   "cell_type": "code",
   "execution_count": 56,
   "id": "154b767b",
   "metadata": {},
   "outputs": [
    {
     "data": {
      "text/html": [
       "<div>\n",
       "<style scoped>\n",
       "    .dataframe tbody tr th:only-of-type {\n",
       "        vertical-align: middle;\n",
       "    }\n",
       "\n",
       "    .dataframe tbody tr th {\n",
       "        vertical-align: top;\n",
       "    }\n",
       "\n",
       "    .dataframe thead th {\n",
       "        text-align: right;\n",
       "    }\n",
       "</style>\n",
       "<table border=\"1\" class=\"dataframe\">\n",
       "  <thead>\n",
       "    <tr style=\"text-align: right;\">\n",
       "      <th></th>\n",
       "      <th>Customer Segment</th>\n",
       "      <th>Sales</th>\n",
       "      <th>Profit</th>\n",
       "    </tr>\n",
       "  </thead>\n",
       "  <tbody>\n",
       "    <tr>\n",
       "      <th>0</th>\n",
       "      <td>Consumer</td>\n",
       "      <td>401778.37</td>\n",
       "      <td>49894.990273</td>\n",
       "    </tr>\n",
       "    <tr>\n",
       "      <th>1</th>\n",
       "      <td>Corporate</td>\n",
       "      <td>657784.53</td>\n",
       "      <td>54444.191002</td>\n",
       "    </tr>\n",
       "    <tr>\n",
       "      <th>2</th>\n",
       "      <td>Home Office</td>\n",
       "      <td>464481.04</td>\n",
       "      <td>54433.520871</td>\n",
       "    </tr>\n",
       "    <tr>\n",
       "      <th>3</th>\n",
       "      <td>Small Business</td>\n",
       "      <td>400293.94</td>\n",
       "      <td>65304.909691</td>\n",
       "    </tr>\n",
       "  </tbody>\n",
       "</table>\n",
       "</div>"
      ],
      "text/plain": [
       "  Customer Segment      Sales        Profit\n",
       "0         Consumer  401778.37  49894.990273\n",
       "1        Corporate  657784.53  54444.191002\n",
       "2      Home Office  464481.04  54433.520871\n",
       "3   Small Business  400293.94  65304.909691"
      ]
     },
     "execution_count": 56,
     "metadata": {},
     "output_type": "execute_result"
    }
   ],
   "source": [
    "df = pd.read_excel(\"D:/codes.xlsx\")\n",
    "df"
   ]
  },
  {
   "cell_type": "code",
   "execution_count": 67,
   "id": "cf3303d9",
   "metadata": {},
   "outputs": [
    {
     "data": {
      "text/html": [
       "<div>\n",
       "<style scoped>\n",
       "    .dataframe tbody tr th:only-of-type {\n",
       "        vertical-align: middle;\n",
       "    }\n",
       "\n",
       "    .dataframe tbody tr th {\n",
       "        vertical-align: top;\n",
       "    }\n",
       "\n",
       "    .dataframe thead th {\n",
       "        text-align: right;\n",
       "    }\n",
       "</style>\n",
       "<table border=\"1\" class=\"dataframe\">\n",
       "  <thead>\n",
       "    <tr style=\"text-align: right;\">\n",
       "      <th></th>\n",
       "      <th>Name</th>\n",
       "      <th>Team</th>\n",
       "      <th>Number</th>\n",
       "      <th>Position</th>\n",
       "      <th>Age</th>\n",
       "      <th>Height</th>\n",
       "      <th>Weight</th>\n",
       "      <th>College</th>\n",
       "      <th>Salary</th>\n",
       "    </tr>\n",
       "  </thead>\n",
       "  <tbody>\n",
       "    <tr>\n",
       "      <th>0</th>\n",
       "      <td>Avery Bradley</td>\n",
       "      <td>Boston Celtics</td>\n",
       "      <td>0.0</td>\n",
       "      <td>PG</td>\n",
       "      <td>25.0</td>\n",
       "      <td>6-2</td>\n",
       "      <td>180.0</td>\n",
       "      <td>Texas</td>\n",
       "      <td>7730337.0</td>\n",
       "    </tr>\n",
       "    <tr>\n",
       "      <th>1</th>\n",
       "      <td>Jae Crowder</td>\n",
       "      <td>Boston Celtics</td>\n",
       "      <td>99.0</td>\n",
       "      <td>SF</td>\n",
       "      <td>25.0</td>\n",
       "      <td>6-6</td>\n",
       "      <td>235.0</td>\n",
       "      <td>Marquette</td>\n",
       "      <td>6796117.0</td>\n",
       "    </tr>\n",
       "    <tr>\n",
       "      <th>2</th>\n",
       "      <td>John Holland</td>\n",
       "      <td>Boston Celtics</td>\n",
       "      <td>30.0</td>\n",
       "      <td>SG</td>\n",
       "      <td>27.0</td>\n",
       "      <td>6-5</td>\n",
       "      <td>205.0</td>\n",
       "      <td>Boston University</td>\n",
       "      <td>NaN</td>\n",
       "    </tr>\n",
       "    <tr>\n",
       "      <th>3</th>\n",
       "      <td>R.J. Hunter</td>\n",
       "      <td>Boston Celtics</td>\n",
       "      <td>28.0</td>\n",
       "      <td>SG</td>\n",
       "      <td>22.0</td>\n",
       "      <td>6-5</td>\n",
       "      <td>185.0</td>\n",
       "      <td>Georgia State</td>\n",
       "      <td>1148640.0</td>\n",
       "    </tr>\n",
       "    <tr>\n",
       "      <th>4</th>\n",
       "      <td>Jonas Jerebko</td>\n",
       "      <td>Boston Celtics</td>\n",
       "      <td>8.0</td>\n",
       "      <td>PF</td>\n",
       "      <td>29.0</td>\n",
       "      <td>6-10</td>\n",
       "      <td>231.0</td>\n",
       "      <td>NaN</td>\n",
       "      <td>5000000.0</td>\n",
       "    </tr>\n",
       "  </tbody>\n",
       "</table>\n",
       "</div>"
      ],
      "text/plain": [
       "            Name            Team  Number Position   Age Height  Weight  \\\n",
       "0  Avery Bradley  Boston Celtics     0.0       PG  25.0    6-2   180.0   \n",
       "1    Jae Crowder  Boston Celtics    99.0       SF  25.0    6-6   235.0   \n",
       "2   John Holland  Boston Celtics    30.0       SG  27.0    6-5   205.0   \n",
       "3    R.J. Hunter  Boston Celtics    28.0       SG  22.0    6-5   185.0   \n",
       "4  Jonas Jerebko  Boston Celtics     8.0       PF  29.0   6-10   231.0   \n",
       "\n",
       "             College     Salary  \n",
       "0              Texas  7730337.0  \n",
       "1          Marquette  6796117.0  \n",
       "2  Boston University        NaN  \n",
       "3      Georgia State  1148640.0  \n",
       "4                NaN  5000000.0  "
      ]
     },
     "execution_count": 67,
     "metadata": {},
     "output_type": "execute_result"
    }
   ],
   "source": [
    "#printing the first n rows\n",
    "df_1.head(5)"
   ]
  },
  {
   "cell_type": "markdown",
   "id": "44c401d1",
   "metadata": {},
   "source": [
    "info about the data"
   ]
  },
  {
   "cell_type": "code",
   "execution_count": 69,
   "id": "2d7c9c27",
   "metadata": {},
   "outputs": [
    {
     "name": "stdout",
     "output_type": "stream",
     "text": [
      "<class 'pandas.core.frame.DataFrame'>\n",
      "RangeIndex: 458 entries, 0 to 457\n",
      "Data columns (total 9 columns):\n",
      " #   Column    Non-Null Count  Dtype  \n",
      "---  ------    --------------  -----  \n",
      " 0   Name      457 non-null    object \n",
      " 1   Team      457 non-null    object \n",
      " 2   Number    457 non-null    float64\n",
      " 3   Position  457 non-null    object \n",
      " 4   Age       457 non-null    float64\n",
      " 5   Height    457 non-null    object \n",
      " 6   Weight    457 non-null    float64\n",
      " 7   College   373 non-null    object \n",
      " 8   Salary    446 non-null    float64\n",
      "dtypes: float64(4), object(5)\n",
      "memory usage: 32.3+ KB\n"
     ]
    }
   ],
   "source": [
    "df_1.info()"
   ]
  },
  {
   "cell_type": "markdown",
   "id": "9efc60d2",
   "metadata": {},
   "source": [
    "dealing with null values"
   ]
  },
  {
   "cell_type": "code",
   "execution_count": 81,
   "id": "9cbadd63",
   "metadata": {},
   "outputs": [],
   "source": [
    "df_1[\"College\"].fillna(\"others\", inplace = True) #inplace = true means that if you make it is going to reflect in the main dataset as well"
   ]
  },
  {
   "cell_type": "code",
   "execution_count": 85,
   "id": "2a6f26f2",
   "metadata": {},
   "outputs": [
    {
     "name": "stdout",
     "output_type": "stream",
     "text": [
      "<class 'pandas.core.frame.DataFrame'>\n",
      "RangeIndex: 458 entries, 0 to 457\n",
      "Data columns (total 9 columns):\n",
      " #   Column    Non-Null Count  Dtype  \n",
      "---  ------    --------------  -----  \n",
      " 0   Name      457 non-null    object \n",
      " 1   Team      457 non-null    object \n",
      " 2   Number    457 non-null    float64\n",
      " 3   Position  457 non-null    object \n",
      " 4   Age       457 non-null    float64\n",
      " 5   Height    457 non-null    object \n",
      " 6   Weight    457 non-null    float64\n",
      " 7   College   458 non-null    object \n",
      " 8   Salary    446 non-null    float64\n",
      "dtypes: float64(4), object(5)\n",
      "memory usage: 32.3+ KB\n"
     ]
    }
   ],
   "source": [
    "\n",
    "df_1.info()"
   ]
  },
  {
   "cell_type": "code",
   "execution_count": 93,
   "id": "4a9eefa6",
   "metadata": {},
   "outputs": [
    {
     "data": {
      "text/plain": [
       "4842684.105381166"
      ]
     },
     "execution_count": 93,
     "metadata": {},
     "output_type": "execute_result"
    }
   ],
   "source": [
    "df_1[\"Salary\"].sum()\n",
    "df_1[\"Salary\"].mean()"
   ]
  },
  {
   "cell_type": "code",
   "execution_count": 91,
   "id": "f12c9220",
   "metadata": {},
   "outputs": [
    {
     "data": {
      "text/plain": [
       "0      7.730337e+06\n",
       "1      6.796117e+06\n",
       "2      4.842684e+06\n",
       "3      1.148640e+06\n",
       "4      5.000000e+06\n",
       "           ...     \n",
       "453    2.433333e+06\n",
       "454    9.000000e+05\n",
       "455    2.900000e+06\n",
       "456    9.472760e+05\n",
       "457    4.842684e+06\n",
       "Name: Salary, Length: 458, dtype: float64"
      ]
     },
     "execution_count": 91,
     "metadata": {},
     "output_type": "execute_result"
    }
   ],
   "source": [
    "mean = df_1[\"Salary\"].mean()\n",
    "#print(mean)\n",
    "df_1[\"Salary\"].fillna(mean)"
   ]
  },
  {
   "cell_type": "markdown",
   "id": "94b86f7c",
   "metadata": {},
   "source": [
    "dealing with null values and plotting the data"
   ]
  },
  {
   "cell_type": "markdown",
   "id": "a38835be",
   "metadata": {},
   "source": [
    "  # matplotlib"
   ]
  },
  {
   "cell_type": "code",
   "execution_count": 108,
   "id": "546e890d",
   "metadata": {},
   "outputs": [],
   "source": [
    "import matplotlib.pyplot as plt"
   ]
  },
  {
   "cell_type": "code",
   "execution_count": 96,
   "id": "0387127a",
   "metadata": {},
   "outputs": [
    {
     "data": {
      "text/html": [
       "<div>\n",
       "<style scoped>\n",
       "    .dataframe tbody tr th:only-of-type {\n",
       "        vertical-align: middle;\n",
       "    }\n",
       "\n",
       "    .dataframe tbody tr th {\n",
       "        vertical-align: top;\n",
       "    }\n",
       "\n",
       "    .dataframe thead th {\n",
       "        text-align: right;\n",
       "    }\n",
       "</style>\n",
       "<table border=\"1\" class=\"dataframe\">\n",
       "  <thead>\n",
       "    <tr style=\"text-align: right;\">\n",
       "      <th></th>\n",
       "      <th>Customer Segment</th>\n",
       "      <th>Sales</th>\n",
       "      <th>Profit</th>\n",
       "    </tr>\n",
       "  </thead>\n",
       "  <tbody>\n",
       "    <tr>\n",
       "      <th>0</th>\n",
       "      <td>Consumer</td>\n",
       "      <td>401778.37</td>\n",
       "      <td>49894.990273</td>\n",
       "    </tr>\n",
       "    <tr>\n",
       "      <th>1</th>\n",
       "      <td>Corporate</td>\n",
       "      <td>657784.53</td>\n",
       "      <td>54444.191002</td>\n",
       "    </tr>\n",
       "    <tr>\n",
       "      <th>2</th>\n",
       "      <td>Home Office</td>\n",
       "      <td>464481.04</td>\n",
       "      <td>54433.520871</td>\n",
       "    </tr>\n",
       "    <tr>\n",
       "      <th>3</th>\n",
       "      <td>Small Business</td>\n",
       "      <td>400293.94</td>\n",
       "      <td>65304.909691</td>\n",
       "    </tr>\n",
       "  </tbody>\n",
       "</table>\n",
       "</div>"
      ],
      "text/plain": [
       "  Customer Segment      Sales        Profit\n",
       "0         Consumer  401778.37  49894.990273\n",
       "1        Corporate  657784.53  54444.191002\n",
       "2      Home Office  464481.04  54433.520871\n",
       "3   Small Business  400293.94  65304.909691"
      ]
     },
     "execution_count": 96,
     "metadata": {},
     "output_type": "execute_result"
    }
   ],
   "source": [
    "df"
   ]
  },
  {
   "cell_type": "code",
   "execution_count": 149,
   "id": "79c44336",
   "metadata": {},
   "outputs": [
    {
     "data": {
      "image/png": "[encoded data removed]",
      "text/plain": [
       "<Figure size 576x432 with 1 Axes>"
      ]
     },
     "metadata": {
      "needs_background": "light"
     },
     "output_type": "display_data"
    }
   ],
   "source": [
    "#plot a line chart\n",
    "x = df[\"Customer Segment\"]\n",
    "y = df[\"Sales\"]\n",
    "\n",
    "plt.figure(figsize = (8, 6)) #figsize = (x-axis length, y-axis length )\n",
    "plt.plot(x, y, color = \"orange\", marker = \"p\" )\n",
    "plt.title(\"Customer Segment with sales\", color = \"purple\")\n",
    "plt.xlabel(\"Customer Segment\", color = \"red\")\n",
    "plt.ylabel(\"Sales\", color = \"green\")\n",
    "plt.show()"
   ]
  },
  {
   "cell_type": "code",
   "execution_count": 144,
   "id": "f2b43387",
   "metadata": {},
   "outputs": [
    {
     "data": {
      "image/png": "[encoded data removed]",
      "text/plain": [
       "<Figure size 576x432 with 1 Axes>"
      ]
     },
     "metadata": {
      "needs_background": "light"
     },
     "output_type": "display_data"
    }
   ],
   "source": [
    "#plot a line chart\n",
    "x = df[\"Customer Segment\"]\n",
    "y = df[\"Sales\"]\n",
    "\n",
    "plt.figure(figsize = (8, 6)) #figsize = (x-axis length, y-axis length )\n",
    "plt.bar(x, y, color = \"orange\")\n",
    "plt.title(\"Customer Segment wise sales\", color = \"purple\")\n",
    "plt.xlabel(\"Customer Segment\", color = \"red\")\n",
    "plt.ylabel(\"Sales\", color = \"green\")\n",
    "plt.show()"
   ]
  },
  {
   "cell_type": "code",
   "execution_count": 121,
   "id": "b494e3f9",
   "metadata": {},
   "outputs": [
    {
     "data": {
      "image/png": "[encoded data removed]",
      "text/plain": [
       "<Figure size 360x216 with 1 Axes>"
      ]
     },
     "metadata": {
      "needs_background": "light"
     },
     "output_type": "display_data"
    }
   ],
   "source": [
    "#plot a line chart\n",
    "x = df[\"Customer Segment\"]\n",
    "y = df[\"Sales\"]\n",
    "\n",
    "plt.figure(figsize = (5, 3)) #figsize = (x-axis length, y-axis length )\n",
    "plt.barh(x, y, color = \"orange\")\n",
    "plt.title(\"Customer Segment wise sales\", color = \"purple\")\n",
    "plt.ylabel(\"Customer Segment\", color = \"red\")\n",
    "plt.xlabel(\"Sales\", color = \"green\")\n",
    "plt.show()"
   ]
  },
  {
   "cell_type": "code",
   "execution_count": 125,
   "id": "70906f68",
   "metadata": {},
   "outputs": [],
   "source": [
    "import numpy as np"
   ]
  },
  {
   "cell_type": "code",
   "execution_count": 126,
   "id": "04992ee6",
   "metadata": {},
   "outputs": [
    {
     "data": {
      "text/plain": [
       "<matplotlib.collections.PathCollection at 0x2172c93c820>"
      ]
     },
     "execution_count": 126,
     "metadata": {},
     "output_type": "execute_result"
    },
    {
     "data": {
      "image/png": "[encoded data removed]",
      "text/plain": [
       "<Figure size 432x288 with 1 Axes>"
      ]
     },
     "metadata": {
      "needs_background": "light"
     },
     "output_type": "display_data"
    }
   ],
   "source": [
    "x = np.array( [ 5, 7, 8, 9, 10, 11, 12, 13, 15 ] )\n",
    "y = np.array( [ 8, 5, 12, 5, 69, 32, 45, 4, 6 ] )\n",
    "\n",
    "plt.scatter(x, y)"
   ]
  },
  {
   "cell_type": "code",
   "execution_count": 127,
   "id": "56f50fb2",
   "metadata": {},
   "outputs": [
    {
     "data": {
      "image/png": "[encoded data removed]",
      "text/plain": [
       "<Figure size 360x216 with 1 Axes>"
      ]
     },
     "metadata": {
      "needs_background": "light"
     },
     "output_type": "display_data"
    }
   ],
   "source": [
    "#plot scatter plot\n",
    "x = np.array( [ 5, 7, 8, 9, 10, 11, 12, 13, 15 ] )\n",
    "y = np.array( [ 8, 5, 12, 5, 69, 32, 45, 4, 6 ] )\n",
    "plt.figure(figsize = (5, 3))\n",
    "plt.scatter(x, y)\n",
    "plt.show()"
   ]
  },
  {
   "cell_type": "code",
   "execution_count": 134,
   "id": "927ca45b",
   "metadata": {},
   "outputs": [],
   "source": [
    "dfs = pd.read_excel(\"D:\\\\aiml\\\\codes\\\\SuperStoreUS2015.xlsx\")"
   ]
  },
  {
   "cell_type": "code",
   "execution_count": 143,
   "id": "cb60fddf",
   "metadata": {},
   "outputs": [
    {
     "data": {
      "image/png": "[encoded data removed]",
      "text/plain": [
       "<Figure size 360x216 with 1 Axes>"
      ]
     },
     "metadata": {
      "needs_background": "light"
     },
     "output_type": "display_data"
    }
   ],
   "source": [
    "x = dfs[\"Sales\"]\n",
    "y = dfs[\"Profit\"]\n",
    "plt.figure(figsize =(5, 3))\n",
    "plt.scatter(x, y, color = \"#206\")\n",
    "plt.show()"
   ]
  },
  {
   "cell_type": "code",
   "execution_count": null,
   "id": "fa7d38ba",
   "metadata": {},
   "outputs": [],
   "source": [
    "#plot scatter plot\n",
    "x = np.array( [ 5, 7, 8, 9, 10, 11, 12, 13, 15 ] )\n",
    "y = np.array( [ 8, 5, 12, 5, 69, 32, 45, 4, 6 ] )\n",
    "plt.figure(figsize = (5, 3))\n",
    "plt.scatter(x, y)\n",
    "plt.show()"
   ]
  }
 ],
 "metadata": {
  "kernelspec": {
   "display_name": "Python 3 (ipykernel)",
   "language": "python",
   "name": "python3"
  },
  "language_info": {
   "codemirror_mode": {
    "name": "ipython",
    "version": 3
   },
   "file_extension": ".py",
   "mimetype": "text/x-python",
   "name": "python",
   "nbconvert_exporter": "python",
   "pygments_lexer": "ipython3",
   "version": "3.9.7"
  }
 },
 "nbformat": 4,
 "nbformat_minor": 5
}
