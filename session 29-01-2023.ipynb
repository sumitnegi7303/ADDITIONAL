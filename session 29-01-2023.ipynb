{
 "cells": [
  {
   "cell_type": "markdown",
   "id": "8e0c4243",
   "metadata": {},
   "source": [
    "abstraction - is used to hide the internal functionality of the functions from the user. in this the \n",
    "user only interacts with the basic implementation of the function. internal working is hidden.\n"
   ]
  },
  {
   "cell_type": "code",
   "execution_count": 1,
   "id": "f4a0a5bb",
   "metadata": {},
   "outputs": [
    {
     "name": "stdout",
     "output_type": "stream",
     "text": [
      "mileage is 25km/l\n"
     ]
    }
   ],
   "source": [
    "from abc import ABC #here abc is the module/package and ABC is the class\n",
    "class car(ABC): #here this car class will act as an abstract base class\n",
    "    def mil(self):\n",
    "        pass # abstract methods are never defined in the abstract classes\n",
    "             # abstract methods are defined in the base class that are inherited \n",
    "             #through abstract class\n",
    "class tata(car):\n",
    "    def mil(self):\n",
    "        print(\"mileage is 35km/l\")\n",
    "        \n",
    "class mahindra(car):\n",
    "    def mil(self):\n",
    "        print(\"mileage is 25km/l\")\n",
    "        \n",
    "class audi(car):\n",
    "    def mil(self):\n",
    "        print(\"mileage is 12km/l\")\n",
    "\n",
    "class BMW(car):\n",
    "    def mil(self):\n",
    "        print(\"mileage is 8km/l\")\n",
    "        \n",
    "m= mahindra() # if you have a class without init() and there are other methods with self then \n",
    "#you need to declare an object like-> object_name = class_name()\n",
    "m.mil()"
   ]
  },
  {
   "cell_type": "markdown",
   "id": "96c9f2c1",
   "metadata": {},
   "source": [
    "polymorphism - the same function name with different parameters and being used for different types"
   ]
  },
  {
   "cell_type": "code",
   "execution_count": 4,
   "id": "76d3e47d",
   "metadata": {},
   "outputs": [
    {
     "data": {
      "text/plain": [
       "6"
      ]
     },
     "execution_count": 4,
     "metadata": {},
     "output_type": "execute_result"
    }
   ],
   "source": [
    "strl = \"python\"\n",
    "len(strl)"
   ]
  },
  {
   "cell_type": "code",
   "execution_count": 5,
   "id": "3e7256b2",
   "metadata": {},
   "outputs": [
    {
     "data": {
      "text/plain": [
       "3"
      ]
     },
     "execution_count": 5,
     "metadata": {},
     "output_type": "execute_result"
    }
   ],
   "source": [
    "fruits = [\"apple\", \"banana\", \"cherry\"]\n",
    "len(fruits)"
   ]
  },
  {
   "cell_type": "code",
   "execution_count": 6,
   "id": "0509e458",
   "metadata": {},
   "outputs": [
    {
     "data": {
      "text/plain": [
       "3"
      ]
     },
     "execution_count": 6,
     "metadata": {},
     "output_type": "execute_result"
    }
   ],
   "source": [
    "fruits = {\"mango\", \"cherry\", \"banana\"}\n",
    "len(fruits)"
   ]
  },
  {
   "cell_type": "markdown",
   "id": "0e09a404",
   "metadata": {},
   "source": [
    "polymorphism in classes"
   ]
  },
  {
   "cell_type": "code",
   "execution_count": 12,
   "id": "682f3905",
   "metadata": {},
   "outputs": [
    {
     "name": "stdout",
     "output_type": "stream",
     "text": [
      "capital of india is delhi\n",
      "capital of USA is Washington DC\n"
     ]
    }
   ],
   "source": [
    "class india:\n",
    "    def capital():\n",
    "        print(\"capital of india is delhi\")\n",
    "    def language():\n",
    "        print(\"hindi is the most spoken language in india\")\n",
    "    def states():\n",
    "        print(\"india has 28 states and 8 union territories\")\n",
    "        \n",
    "class USA:\n",
    "    def capital():\n",
    "        print(\"capital of USA is Washington DC\")\n",
    "    def language():\n",
    "        print(\"English is the most spoken language in USA\")\n",
    "    def States():\n",
    "        print(\"USA have 50 states\")\n",
    "i = india\n",
    "u = USA\n",
    "i.capital()\n",
    "u.capital()"
   ]
  },
  {
   "cell_type": "code",
   "execution_count": 30,
   "id": "69fc65e1",
   "metadata": {},
   "outputs": [
    {
     "ename": "TypeError",
     "evalue": "intro() takes 0 positional arguments but 1 was given",
     "output_type": "error",
     "traceback": [
      "\u001b[1;31m---------------------------------------------------------------------------\u001b[0m",
      "\u001b[1;31mTypeError\u001b[0m                                 Traceback (most recent call last)",
      "\u001b[1;32mC:\\Users\\GOURAV~1\\AppData\\Local\\Temp/ipykernel_13028/239311084.py\u001b[0m in \u001b[0;36m<module>\u001b[1;34m\u001b[0m\n\u001b[0;32m     19\u001b[0m \u001b[0ms\u001b[0m\u001b[1;33m=\u001b[0m\u001b[0msparrow\u001b[0m\u001b[1;33m(\u001b[0m\u001b[1;33m)\u001b[0m\u001b[1;33m\u001b[0m\u001b[1;33m\u001b[0m\u001b[0m\n\u001b[0;32m     20\u001b[0m \u001b[0mk\u001b[0m\u001b[1;33m=\u001b[0m\u001b[0mkiwi\u001b[0m\u001b[1;33m(\u001b[0m\u001b[1;33m)\u001b[0m\u001b[1;33m\u001b[0m\u001b[1;33m\u001b[0m\u001b[0m\n\u001b[1;32m---> 21\u001b[1;33m \u001b[0mb\u001b[0m\u001b[1;33m.\u001b[0m\u001b[0mintro\u001b[0m\u001b[1;33m(\u001b[0m\u001b[1;33m)\u001b[0m\u001b[1;33m\u001b[0m\u001b[1;33m\u001b[0m\u001b[0m\n\u001b[0m\u001b[0;32m     22\u001b[0m \u001b[0mb\u001b[0m\u001b[1;33m.\u001b[0m\u001b[0mfly\u001b[0m\u001b[1;33m(\u001b[0m\u001b[1;33m)\u001b[0m\u001b[1;33m\u001b[0m\u001b[1;33m\u001b[0m\u001b[0m\n\u001b[0;32m     23\u001b[0m \u001b[0ms\u001b[0m\u001b[1;33m.\u001b[0m\u001b[0mfly\u001b[0m\u001b[1;33m(\u001b[0m\u001b[1;34m\"aman\"\u001b[0m\u001b[1;33m)\u001b[0m\u001b[1;33m\u001b[0m\u001b[1;33m\u001b[0m\u001b[0m\n",
      "\u001b[1;31mTypeError\u001b[0m: intro() takes 0 positional arguments but 1 was given"
     ]
    }
   ],
   "source": [
    "class bird:\n",
    "    def intro():\n",
    "        print(\"i am a bird\")\n",
    "    def fly():        \n",
    "        print(\"you are in bird class\")\n",
    "        print(\"few birds cannot fly\\n\")\n",
    "        \n",
    "class sparrow(bird):\n",
    "    def fly(name):\n",
    "        print(\"sparrow can fly\")\n",
    "        print(f\"Name - {name}\\n\")\n",
    "        \n",
    "class kiwi(bird):\n",
    "    def fly(name1, name2):\n",
    "        print(\"kiwi cannot fly\")\n",
    "        print(f\"Name1 - {name1} and Name2 - {name2}\")\n",
    "            \n",
    "b=bird()\n",
    "s=sparrow()\n",
    "k=kiwi()\n",
    "b.intro()\n",
    "b.fly()\n",
    "s.fly(\"aman\")\n",
    "k.fly(\"anuj\", \"ankit\")"
   ]
  },
  {
   "cell_type": "markdown",
   "id": "44b99d7f",
   "metadata": {},
   "source": [
    "numpie array have different array functions\n",
    "\n",
    "list have limited functions."
   ]
  },
  {
   "cell_type": "markdown",
   "id": "a89d4e08",
   "metadata": {},
   "source": [
    "# Numpy"
   ]
  },
  {
   "cell_type": "code",
   "execution_count": 31,
   "id": "dde8f37b",
   "metadata": {},
   "outputs": [],
   "source": [
    "import numpy as np # this is over library."
   ]
  },
  {
   "cell_type": "code",
   "execution_count": 45,
   "id": "5e8bd372",
   "metadata": {},
   "outputs": [
    {
     "name": "stdout",
     "output_type": "stream",
     "text": [
      "[1, 2, 3, 4, 5]\n",
      "[1 2 3 4 5]\n"
     ]
    }
   ],
   "source": [
    "#creating an array\n",
    "import numpy as np\n",
    "num = [1, 2, 3, 4, 5]\n",
    "arr = np.array([1, 2, 3, 4, 5]) #we are passing a list to array function\n",
    "print(num)\n",
    "print(arr)"
   ]
  },
  {
   "cell_type": "code",
   "execution_count": 44,
   "id": "5a376d2d",
   "metadata": {},
   "outputs": [
    {
     "name": "stdout",
     "output_type": "stream",
     "text": [
      "[1 2 3 4 5]\n"
     ]
    }
   ],
   "source": [
    "import numpy as np\n",
    "arr = np.array([1,2,3,4,5])\n",
    "print(arr)"
   ]
  },
  {
   "cell_type": "code",
   "execution_count": null,
   "id": "519e11ec",
   "metadata": {},
   "outputs": [],
   "source": []
  },
  {
   "cell_type": "code",
   "execution_count": null,
   "id": "a385b4a4",
   "metadata": {},
   "outputs": [],
   "source": []
  }
 ],
 "metadata": {
  "kernelspec": {
   "display_name": "Python 3 (ipykernel)",
   "language": "python",
   "name": "python3"
  },
  "language_info": {
   "codemirror_mode": {
    "name": "ipython",
    "version": 3
   },
   "file_extension": ".py",
   "mimetype": "text/x-python",
   "name": "python",
   "nbconvert_exporter": "python",
   "pygments_lexer": "ipython3",
   "version": "3.9.7"
  }
 },
 "nbformat": 4,
 "nbformat_minor": 5
}
