{
 "cells": [
  {
   "cell_type": "markdown",
   "id": "5d544071",
   "metadata": {},
   "source": [
    "Nested if"
   ]
  },
  {
   "cell_type": "code",
   "execution_count": 1,
   "id": "524c6571",
   "metadata": {},
   "outputs": [
    {
     "name": "stdout",
     "output_type": "stream",
     "text": [
      "enter your age: 55\n",
      "your are eligible to drive\n"
     ]
    }
   ],
   "source": [
    "age = int(input(\"enter your age: \") )\n",
    "\n",
    "if( age >=18 ): #outer if\n",
    "    if( age <= 65 ):#inner if\n",
    "        print( \"your are eligible to drive\" )\n",
    "        \n",
    "    else:\n",
    "        print( \"you are not eligible to drive as your age is > 65\" )\n",
    "        \n",
    "else:#else part of outer if\n",
    "    print( \"you are not eligible to drive as your age is < 18\" )"
   ]
  },
  {
   "cell_type": "code",
   "execution_count": 2,
   "id": "ceb9a43d",
   "metadata": {},
   "outputs": [
    {
     "name": "stdout",
     "output_type": "stream",
     "text": [
      "enter the year: 2024\n",
      "2024 is a leap year\n"
     ]
    }
   ],
   "source": [
    "#wap to check if a year is leap year or not\n",
    "year = int(input(\"enter the year: \"))\n",
    "\n",
    "if (year % 100==0):\n",
    "    if (year % 400==0):\n",
    "        print(f\"{year} is a century year as well as leap year\")\n",
    "    else:\n",
    "        print(f\"{year} is a century year not a leap year\")\n",
    "\n",
    "else:\n",
    "    if(year % 4==0):\n",
    "        print(f\"{year} is a leap year\")\n",
    "        \n",
    "    else:\n",
    "        print(f\"{year} is a normal year\")\n",
    "        "
   ]
  },
  {
   "cell_type": "code",
   "execution_count": 12,
   "id": "4b7b7515",
   "metadata": {},
   "outputs": [
    {
     "name": "stdout",
     "output_type": "stream",
     "text": [
      "enter the year : 2024\n",
      "it is a leap year\n"
     ]
    }
   ],
   "source": [
    "year = int(input(\"enter the year : \"))\n",
    "\n",
    "if (year % 100 ==0):\n",
    "    print(\"{year}is a century year\")\n",
    "    \n",
    "    if(year % 400==0):\n",
    "        print(\"{year}is a  not century year\")\n",
    "    \n",
    "else:\n",
    "    if(year % 4==0): \n",
    "        print(\"it is a leap year\")\n",
    "        \n",
    "    else:\n",
    "        print(\"it is normal year\")"
   ]
  },
  {
   "cell_type": "code",
   "execution_count": 15,
   "id": "ee3218d6",
   "metadata": {},
   "outputs": [
    {
     "name": "stdout",
     "output_type": "stream",
     "text": [
      "enter the year: 2024\n",
      "it is a leap year\n"
     ]
    }
   ],
   "source": [
    "year = int(input(\"enter the year: \"))\n",
    "\n",
    "if(year % 100==0):\n",
    "    print(f\"{year} this is a century year\")\n",
    "    \n",
    "    if(year % 400==0):\n",
    "        print(f\"{year} this is a not leap year\")\n",
    "        \n",
    "else:\n",
    "    if(year % 4==0):\n",
    "        print(\"it is a leap year\")\n",
    "        \n",
    "    else:\n",
    "        print(\" it is normal year\")"
   ]
  },
  {
   "cell_type": "markdown",
   "id": "e4f27dea",
   "metadata": {},
   "source": [
    "# python loops"
   ]
  },
  {
   "cell_type": "markdown",
   "id": "3c59d445",
   "metadata": {},
   "source": [
    "Loops are used to repeat a block of code n number of times or till a condition is true"
   ]
  },
  {
   "cell_type": "markdown",
   "id": "c79ee597",
   "metadata": {},
   "source": [
    "for loop - is used in those cases where we know about the number of repetation or how many times a block of code is going to be executed"
   ]
  },
  {
   "cell_type": "code",
   "execution_count": 23,
   "id": "047c8ecb",
   "metadata": {},
   "outputs": [
    {
     "name": "stdout",
     "output_type": "stream",
     "text": [
      "apple\n",
      "banana\n",
      "cheery\n",
      "manago\n"
     ]
    }
   ],
   "source": [
    "#for iteam in iterable\n",
    "#iterable - is an object that hold a countable number of values eg- list, tuple, set, dict, string\n",
    "fruits = [ \"apple\", \"banana\", \"cheery\", \"manago\" ]\n",
    "\n",
    "for i in fruits:\n",
    "    print(i)"
   ]
  },
  {
   "cell_type": "code",
   "execution_count": 37,
   "id": "dd263802",
   "metadata": {},
   "outputs": [
    {
     "name": "stdout",
     "output_type": "stream",
     "text": [
      "True\n"
     ]
    }
   ],
   "source": [
    "fruits = [ \"apple\", \"banana\", \"cheery\", \"manago\" ]\n",
    "print( \"cheery\" in fruits)"
   ]
  },
  {
   "cell_type": "code",
   "execution_count": 38,
   "id": "abced639",
   "metadata": {},
   "outputs": [
    {
     "name": "stdout",
     "output_type": "stream",
     "text": [
      "['apple', 'banana', 'cheery', 'manago']\n",
      "apple\n",
      "banana\n",
      "cheery\n",
      "manago\n"
     ]
    }
   ],
   "source": [
    "fruits = [ \"apple\", \"banana\", \"cheery\", \"manago\" ]\n",
    "print(fruits)\n",
    "\n",
    "for i in fruits:\n",
    "    print(i)"
   ]
  },
  {
   "cell_type": "code",
   "execution_count": 39,
   "id": "753a3c4c",
   "metadata": {},
   "outputs": [
    {
     "name": "stdout",
     "output_type": "stream",
     "text": [
      "0\n",
      "1\n",
      "2\n",
      "3\n",
      "4\n"
     ]
    }
   ],
   "source": [
    "#range(starting value, ending value, stepping vaue)\n",
    "for i in range(5): #This will start from 0 and will go till n-1 in this case 4\n",
    "    print(i)"
   ]
  },
  {
   "cell_type": "code",
   "execution_count": 41,
   "id": "ea1f3f97",
   "metadata": {},
   "outputs": [
    {
     "name": "stdout",
     "output_type": "stream",
     "text": [
      "5\n",
      "6\n",
      "7\n",
      "8\n",
      "9\n",
      "10\n",
      "11\n",
      "12\n",
      "13\n",
      "14\n",
      "15\n"
     ]
    }
   ],
   "source": [
    "#print number from 5 to 15\n",
    "for i in range(5, 16):\n",
    "    print(i)"
   ]
  },
  {
   "cell_type": "code",
   "execution_count": 46,
   "id": "1f6af3f0",
   "metadata": {},
   "outputs": [
    {
     "name": "stdout",
     "output_type": "stream",
     "text": [
      "enter the number of fruit you want to enter2\n",
      "enter the fruit name: mango\n",
      "enter the fruit name: cheery\n",
      "('mango', 'cheery')\n"
     ]
    }
   ],
   "source": [
    "#create a list of fruit where user will enter the number of fruits and fruit names\n",
    "num = int(input(\"enter the number of fruit you want to enter\"))\n",
    "fruits=[]\n",
    "for i in range(num):\n",
    "    name=input(\"enter the fruit name: \")\n",
    "    fruits.append(name)\n",
    "    \n",
    "fruits = tuple(fruits)\n",
    "print(fruits)"
   ]
  },
  {
   "cell_type": "code",
   "execution_count": 8,
   "id": "0ec2fc56",
   "metadata": {},
   "outputs": [
    {
     "name": "stdout",
     "output_type": "stream",
     "text": [
      "enter the name of employees2\n",
      "enter the name of employee: amit\n",
      "enter the name of employee: nimu\n",
      "['amit', 'nimu']\n"
     ]
    }
   ],
   "source": [
    "#wap to create a list of employees entered by user\n",
    "num=int(input(\"enter the name of employees\"))\n",
    "empl=[]\n",
    "for i in range(num):\n",
    "    name=input(\"enter the name of employee: \")\n",
    "    empl.append(name)\n",
    "\n",
    "print(empl)"
   ]
  },
  {
   "cell_type": "code",
   "execution_count": 66,
   "id": "4d66d9ab",
   "metadata": {},
   "outputs": [
    {
     "name": "stdout",
     "output_type": "stream",
     "text": [
      "enter the number of employees you want to enter2\n",
      "enter the employee name: anuj\n",
      "enter the agge of the employee: 25\n",
      "enter the employee name: himanshu\n",
      "enter the agge of the employee: 23\n",
      "{'name': ['anuj', 25, 'himanshu', 23], 'age': []}\n"
     ]
    }
   ],
   "source": [
    "num = int(input(\"enter the number of employees you want to enter\"))\n",
    "name=[]\n",
    "age=[]\n",
    "for i in range(num):\n",
    "#n= input ( \"enter the employee name: \")\n",
    "#a =int (input(\" enter the age of employee\"))\n",
    "\n",
    "    name.append( input( \"enter the employee name: \" ) )\n",
    "    name.append( int( input( \"enter the age of the employee: \" ) ) )\n",
    "employee= {\n",
    "            \"name\" : name,\n",
    "            \"age\"  : age\n",
    "        }\n",
    "print(employee)"
   ]
  },
  {
   "cell_type": "code",
   "execution_count": 67,
   "id": "19f4ea4b",
   "metadata": {},
   "outputs": [
    {
     "name": "stdout",
     "output_type": "stream",
     "text": [
      "5\n",
      "7\n",
      "9\n",
      "11\n",
      "13\n",
      "15\n",
      "17\n",
      "19\n"
     ]
    }
   ],
   "source": [
    "#print alternate number between 5 and 20 steeping values\n",
    "\n",
    "for i in range(5, 21, 2):\n",
    "    print(i)"
   ]
  },
  {
   "cell_type": "code",
   "execution_count": 12,
   "id": "d73c0d0a",
   "metadata": {},
   "outputs": [
    {
     "name": "stdout",
     "output_type": "stream",
     "text": [
      "enter the number of employees you want to enter2\n",
      "enter the employee name: amit\n",
      "enter the age of the employee: 25\n",
      "enter the salary: 15000\n",
      "enter the department: h.r\n",
      "enter the employee name: kinjal\n",
      "enter the age of the employee: 21\n",
      "enter the salary: 2000\n",
      "enter the department: letrature\n",
      "2\n",
      "{'name': ['amit', 'kinjal'], 'age': [25, 21], 'salary': [15000, 2000], 'department': ['h.r', 'letrature']}\n"
     ]
    }
   ],
   "source": [
    "#wap to create a user defined dictionary which will have following keys - name, age, salary, department\n",
    "\n",
    "num = int(input(\"enter the number of employees you want to enter\"))\n",
    "name=[]\n",
    "age=[]\n",
    "salary=[]\n",
    "department=[]\n",
    "for i in range(num):\n",
    "#n= input ( \"enter the employee name: \")\n",
    "#a =int (input(\" enter the age of employee\"))\n",
    "\n",
    "    name.append( input( \"enter the employee name: \" ) )\n",
    "    age.append( int( input( \"enter the age of the employee: \" ) ) )\n",
    "    salary.append( int( input( \"enter the salary: \" ) ) )\n",
    "    department.append( input( \"enter the department: \" ) ) \n",
    "employee= {\n",
    "            \"name\" : name,\n",
    "            \"age\"  : age,\n",
    "            \"salary\"  : salary,\n",
    "            \"department\"  : department\n",
    "        }\n",
    "\n",
    "print(num)\n",
    "print(employee)"
   ]
  },
  {
   "cell_type": "code",
   "execution_count": 13,
   "id": "31609365",
   "metadata": {},
   "outputs": [],
   "source": [
    "import pandas as pd"
   ]
  },
  {
   "cell_type": "code",
   "execution_count": 77,
   "id": "a3364566",
   "metadata": {},
   "outputs": [
    {
     "name": "stdout",
     "output_type": "stream",
     "text": [
      "enter the number you want1\n",
      "enter the name: sumit\n",
      "enter the age: 25\n",
      "enter the salary: 250255\n",
      "enter the department: data\n",
      "{'name': ['sumit'], 'age': [25], 'salary': [250255], 'department': ['data']}\n"
     ]
    }
   ],
   "source": [
    "num=int(input(\"enter the number you want\"))\n",
    "name=[]\n",
    "age=[]\n",
    "salary=[]\n",
    "department=[]\n",
    "for i in range(num):\n",
    "    name.append(input(\"enter the name: \"))\n",
    "    age.append(int(input(\"enter the age: \")))\n",
    "    salary.append(int(input(\"enter the salary: \")))\n",
    "    department.append(input(\"enter the department: \"))\n",
    "\n",
    "employees= {\n",
    "             \"name\" : name,\n",
    "             \"age\"  : age,\n",
    "             \"salary\" : salary,\n",
    "             \"department\" : department\n",
    "          }\n",
    "tuple=(\"employees\")\n",
    "print(employees)"
   ]
  },
  {
   "cell_type": "code",
   "execution_count": 80,
   "id": "da68ebd1",
   "metadata": {},
   "outputs": [
    {
     "name": "stdout",
     "output_type": "stream",
     "text": [
      "0\n",
      "1\n",
      "2\n",
      "3\n"
     ]
    }
   ],
   "source": [
    "l =[ [1, 2, 3, 4 ], [ 'a', 'b', 'c', 'd'] ]\n",
    "\n",
    "dictl = {}\n",
    "\n",
    "for i in range( len( l[0] ) ):\n",
    "    print(i)"
   ]
  },
  {
   "cell_type": "code",
   "execution_count": 81,
   "id": "c78e001a",
   "metadata": {},
   "outputs": [
    {
     "name": "stdout",
     "output_type": "stream",
     "text": [
      "['a', 'b', 'c', 'd']\n",
      "0\n",
      "1\n",
      "2\n",
      "3\n"
     ]
    }
   ],
   "source": [
    "l =[ [1, 2, 3, 4 ], [ 'a', 'b', 'c', 'd'] ]\n",
    "\n",
    "dictl = {}\n",
    "key = l[1]\n",
    "value = l[0]\n",
    "print(key)\n",
    "for i in range( len( l[0] ) ):\n",
    "    print(i)"
   ]
  },
  {
   "cell_type": "code",
   "execution_count": 86,
   "id": "d496d271",
   "metadata": {},
   "outputs": [
    {
     "name": "stdout",
     "output_type": "stream",
     "text": [
      "['a', 'b', 'c', 'd']\n"
     ]
    },
    {
     "data": {
      "text/plain": [
       "{'a': 1, 'b': 2, 'c': 3, 'd': 4}"
      ]
     },
     "execution_count": 86,
     "metadata": {},
     "output_type": "execute_result"
    }
   ],
   "source": [
    "l =[ [1, 2, 3, 4 ], [ 'a', 'b', 'c', 'd'] ]\n",
    "\n",
    "dictl = {}\n",
    "key = l[1]\n",
    "value = l[0]\n",
    "print(key)\n",
    "for i in range( len( l[0] ) ):\n",
    "    dictl[key[i]] = value [i]\n",
    "    \n",
    "dictl"
   ]
  },
  {
   "cell_type": "code",
   "execution_count": 91,
   "id": "1542185e",
   "metadata": {},
   "outputs": [
    {
     "name": "stdout",
     "output_type": "stream",
     "text": [
      "a\n",
      "b\n",
      "c\n",
      "d\n"
     ]
    },
    {
     "data": {
      "text/plain": [
       "{'a': 1, 'b': 2, 'c': 3, 'd': 4}"
      ]
     },
     "execution_count": 91,
     "metadata": {},
     "output_type": "execute_result"
    }
   ],
   "source": [
    "l =[ [1, 2, 3, 4 ], [ 'a', 'b', 'c', 'd'] ]\n",
    "\n",
    "dictl = {}\n",
    "key = l[1]\n",
    "value = l[0]\n",
    "\n",
    "for i in range( len( l[0] ) ):\n",
    "    print(key[i])\n",
    "    dictl[key[i]] = value [i]\n",
    "    \n",
    "dictl"
   ]
  },
  {
   "cell_type": "markdown",
   "id": "e20fcde0",
   "metadata": {},
   "source": [
    "break and continue statement"
   ]
  },
  {
   "cell_type": "code",
   "execution_count": 96,
   "id": "584449cf",
   "metadata": {},
   "outputs": [
    {
     "name": "stdout",
     "output_type": "stream",
     "text": [
      "cherry\n",
      "apple\n",
      "banana found in the list\n",
      "banana\n",
      "mango\n",
      "melon\n"
     ]
    }
   ],
   "source": [
    "fruit = [ \"cherry\", \"apple\", \"banana\", \"mango\", \"melon\" ]\n",
    "\n",
    "for i in fruit:\n",
    "    #print(i)\n",
    "    if(i == \"banana\"):\n",
    "        print(\"banana found in the list\")\n",
    "    print(i)\n",
    "    #break # this will terminate the loop once the condition is satisfied and nothing after this \n",
    "    #will be printed in the for loop\n",
    "    #continue this will skip this part of loop once the condition is satisfied\n",
    "    "
   ]
  },
  {
   "cell_type": "code",
   "execution_count": 101,
   "id": "c8e9e11b",
   "metadata": {},
   "outputs": [
    {
     "name": "stdout",
     "output_type": "stream",
     "text": [
      "jerry\n",
      "mouse\n",
      "tom\n"
     ]
    }
   ],
   "source": [
    "fruit = [ \"jerry\", \"mouse\", \"tom\", \"pussy cat\"]\n",
    "\n",
    "for i in fruit:\n",
    "    if(i==\"pussy cat\"):\n",
    "        continue\n",
    "        #print(\"pussy cat found in the list\")\n",
    "    print(i)"
   ]
  },
  {
   "cell_type": "code",
   "execution_count": 102,
   "id": "68a6ea58",
   "metadata": {},
   "outputs": [],
   "source": [
    "import datetime"
   ]
  },
  {
   "cell_type": "code",
   "execution_count": 103,
   "id": "de7d65da",
   "metadata": {},
   "outputs": [
    {
     "data": {
      "text/plain": [
       "datetime.datetime(2023, 1, 14, 12, 49, 31, 707899)"
      ]
     },
     "execution_count": 103,
     "metadata": {},
     "output_type": "execute_result"
    }
   ],
   "source": [
    "x=datetime.datetime.now()\n",
    "x"
   ]
  },
  {
   "cell_type": "code",
   "execution_count": 110,
   "id": "6771b897",
   "metadata": {},
   "outputs": [],
   "source": [
    "from datetime import date"
   ]
  },
  {
   "cell_type": "code",
   "execution_count": 111,
   "id": "276b5dfb",
   "metadata": {},
   "outputs": [
    {
     "data": {
      "text/plain": [
       "datetime.date(2023, 1, 14)"
      ]
     },
     "execution_count": 111,
     "metadata": {},
     "output_type": "execute_result"
    }
   ],
   "source": [
    "y=date.today()\n",
    "y\n"
   ]
  },
  {
   "cell_type": "code",
   "execution_count": 114,
   "id": "3e75b9b4",
   "metadata": {},
   "outputs": [
    {
     "name": "stdout",
     "output_type": "stream",
     "text": [
      "p\n",
      "y\n",
      "t\n",
      "h\n",
      "o\n",
      "n\n"
     ]
    }
   ],
   "source": [
    "name=\"python\"\n",
    "for i in name:\n",
    "    print(i)"
   ]
  },
  {
   "cell_type": "code",
   "execution_count": null,
   "id": "9ca7f25d",
   "metadata": {},
   "outputs": [],
   "source": [
    "        "
   ]
  }
 ],
 "metadata": {
  "kernelspec": {
   "display_name": "Python 3 (ipykernel)",
   "language": "python",
   "name": "python3"
  },
  "language_info": {
   "codemirror_mode": {
    "name": "ipython",
    "version": 3
   },
   "file_extension": ".py",
   "mimetype": "text/x-python",
   "name": "python",
   "nbconvert_exporter": "python",
   "pygments_lexer": "ipython3",
   "version": "3.9.7"
  }
 },
 "nbformat": 4,
 "nbformat_minor": 5
}
