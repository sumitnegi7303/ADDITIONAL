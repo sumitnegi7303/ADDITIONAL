{
 "cells": [
  {
   "cell_type": "markdown",
   "id": "c0bc2499",
   "metadata": {},
   "source": [
    "The following is a list of shopping malls in India, sortable by name, location, year opened, and Gross Leasable Area."
   ]
  },
  {
   "cell_type": "markdown",
   "id": "6b25534d",
   "metadata": {},
   "source": [
    "Expected update frequency\n",
    "Annually\n",
    "\n",
    "Tags\n",
    "\n",
    "Business\n",
    "\n",
    "Education\n",
    "\n",
    "Internet\n",
    "\n",
    "Finance\n",
    "\n",
    "Retail and Shopping\n"
   ]
  },
  {
   "cell_type": "code",
   "execution_count": 156,
   "id": "52f5ad06",
   "metadata": {},
   "outputs": [],
   "source": [
    "import numpy as np\n",
    "import pandas as pd\n",
    "import seaborn as sns\n",
    "import matplotlib.pyplot as plt\n",
    "\n",
    "import warnings\n",
    "warnings.filterwarnings('ignore')"
   ]
  },
  {
   "cell_type": "code",
   "execution_count": 157,
   "id": "7fbd7d60",
   "metadata": {},
   "outputs": [
    {
     "data": {
      "text/html": [
       "<div>\n",
       "<style scoped>\n",
       "    .dataframe tbody tr th:only-of-type {\n",
       "        vertical-align: middle;\n",
       "    }\n",
       "\n",
       "    .dataframe tbody tr th {\n",
       "        vertical-align: top;\n",
       "    }\n",
       "\n",
       "    .dataframe thead th {\n",
       "        text-align: right;\n",
       "    }\n",
       "</style>\n",
       "<table border=\"1\" class=\"dataframe\">\n",
       "  <thead>\n",
       "    <tr style=\"text-align: right;\">\n",
       "      <th></th>\n",
       "      <th>Name</th>\n",
       "      <th>Location</th>\n",
       "      <th>Year</th>\n",
       "      <th>Size (Total Area )</th>\n",
       "    </tr>\n",
       "  </thead>\n",
       "  <tbody>\n",
       "    <tr>\n",
       "      <th>0</th>\n",
       "      <td>MGB Felicity Mall</td>\n",
       "      <td>Nellore</td>\n",
       "      <td>2018</td>\n",
       "      <td>320,000 sq ft (30,000 m2)</td>\n",
       "    </tr>\n",
       "    <tr>\n",
       "      <th>1</th>\n",
       "      <td>CMR Central</td>\n",
       "      <td>Maddilapalem, Visakhapatnam</td>\n",
       "      <td>2010</td>\n",
       "      <td>350,000 sq ft (33,000 m2)</td>\n",
       "    </tr>\n",
       "    <tr>\n",
       "      <th>2</th>\n",
       "      <td>Trendset Mall</td>\n",
       "      <td>Benz Circle, Vijayawada</td>\n",
       "      <td>2015</td>\n",
       "      <td>450,000 sq ft (42,000 m2)</td>\n",
       "    </tr>\n",
       "    <tr>\n",
       "      <th>3</th>\n",
       "      <td>PVP Square Mall</td>\n",
       "      <td>MG Road, Vijayawada</td>\n",
       "      <td>2014</td>\n",
       "      <td>427,000 sq ft (39,700 m2)</td>\n",
       "    </tr>\n",
       "    <tr>\n",
       "      <th>4</th>\n",
       "      <td>Visakhapatnam Central</td>\n",
       "      <td>Suryabagh, Visakhapatnam</td>\n",
       "      <td>2011</td>\n",
       "      <td>150,000 sq ft (14,000 m2)</td>\n",
       "    </tr>\n",
       "    <tr>\n",
       "      <th>...</th>\n",
       "      <td>...</td>\n",
       "      <td>...</td>\n",
       "      <td>...</td>\n",
       "      <td>...</td>\n",
       "    </tr>\n",
       "    <tr>\n",
       "      <th>315</th>\n",
       "      <td>Central Mall, New Town</td>\n",
       "      <td>Action Area-1, New Town, Kolkata</td>\n",
       "      <td>2017</td>\n",
       "      <td>100,000 sq ft (9,300 m2)</td>\n",
       "    </tr>\n",
       "    <tr>\n",
       "      <th>316</th>\n",
       "      <td>E Mall, Kolkata</td>\n",
       "      <td>Chandni Chowk, Dharmatala, Kolkata</td>\n",
       "      <td>NaN</td>\n",
       "      <td>80,000 sq ft (7,400 m2)</td>\n",
       "    </tr>\n",
       "    <tr>\n",
       "      <th>317</th>\n",
       "      <td>Silver Arcade</td>\n",
       "      <td>Mathpukur, EM Bypass, Kolkata</td>\n",
       "      <td>NaN</td>\n",
       "      <td>80,000 sq ft (7,400 m2)</td>\n",
       "    </tr>\n",
       "    <tr>\n",
       "      <th>318</th>\n",
       "      <td>Homeland Mall</td>\n",
       "      <td>Ashutosh Mukherjee Road, Kolkata</td>\n",
       "      <td>NaN</td>\n",
       "      <td>8,000 sq ft (740 m2)</td>\n",
       "    </tr>\n",
       "    <tr>\n",
       "      <th>319</th>\n",
       "      <td>Metro Central Mall</td>\n",
       "      <td>New Market, Dharmatala, Kolkata</td>\n",
       "      <td>2019</td>\n",
       "      <td>50,000 sq ft (4,600 m2)</td>\n",
       "    </tr>\n",
       "  </tbody>\n",
       "</table>\n",
       "<p>320 rows × 4 columns</p>\n",
       "</div>"
      ],
      "text/plain": [
       "                       Name                            Location  Year  \\\n",
       "0         MGB Felicity Mall                             Nellore  2018   \n",
       "1               CMR Central         Maddilapalem, Visakhapatnam  2010   \n",
       "2             Trendset Mall             Benz Circle, Vijayawada  2015   \n",
       "3           PVP Square Mall                 MG Road, Vijayawada  2014   \n",
       "4     Visakhapatnam Central            Suryabagh, Visakhapatnam  2011   \n",
       "..                      ...                                 ...   ...   \n",
       "315  Central Mall, New Town    Action Area-1, New Town, Kolkata  2017   \n",
       "316         E Mall, Kolkata  Chandni Chowk, Dharmatala, Kolkata   NaN   \n",
       "317           Silver Arcade       Mathpukur, EM Bypass, Kolkata   NaN   \n",
       "318           Homeland Mall    Ashutosh Mukherjee Road, Kolkata   NaN   \n",
       "319      Metro Central Mall     New Market, Dharmatala, Kolkata  2019   \n",
       "\n",
       "            Size (Total Area )  \n",
       "0    320,000 sq ft (30,000 m2)  \n",
       "1    350,000 sq ft (33,000 m2)  \n",
       "2    450,000 sq ft (42,000 m2)  \n",
       "3    427,000 sq ft (39,700 m2)  \n",
       "4    150,000 sq ft (14,000 m2)  \n",
       "..                         ...  \n",
       "315   100,000 sq ft (9,300 m2)  \n",
       "316    80,000 sq ft (7,400 m2)  \n",
       "317    80,000 sq ft (7,400 m2)  \n",
       "318       8,000 sq ft (740 m2)  \n",
       "319    50,000 sq ft (4,600 m2)  \n",
       "\n",
       "[320 rows x 4 columns]"
      ]
     },
     "execution_count": 157,
     "metadata": {},
     "output_type": "execute_result"
    }
   ],
   "source": [
    "df = pd.read_csv(\"C:\\\\Users\\\\GOURAV NEGI\\\\Downloads\\\\archive (9)\\\\List-of-shopping-malls-in-India.csv\")\n",
    "df"
   ]
  },
  {
   "cell_type": "code",
   "execution_count": 158,
   "id": "02587cd3",
   "metadata": {},
   "outputs": [
    {
     "data": {
      "text/html": [
       "<div>\n",
       "<style scoped>\n",
       "    .dataframe tbody tr th:only-of-type {\n",
       "        vertical-align: middle;\n",
       "    }\n",
       "\n",
       "    .dataframe tbody tr th {\n",
       "        vertical-align: top;\n",
       "    }\n",
       "\n",
       "    .dataframe thead th {\n",
       "        text-align: right;\n",
       "    }\n",
       "</style>\n",
       "<table border=\"1\" class=\"dataframe\">\n",
       "  <thead>\n",
       "    <tr style=\"text-align: right;\">\n",
       "      <th></th>\n",
       "      <th>Name</th>\n",
       "      <th>Location</th>\n",
       "      <th>Year</th>\n",
       "      <th>Size (Total Area )</th>\n",
       "    </tr>\n",
       "  </thead>\n",
       "  <tbody>\n",
       "    <tr>\n",
       "      <th>0</th>\n",
       "      <td>MGB Felicity Mall</td>\n",
       "      <td>Nellore</td>\n",
       "      <td>2018</td>\n",
       "      <td>320,000 sq ft (30,000 m2)</td>\n",
       "    </tr>\n",
       "    <tr>\n",
       "      <th>1</th>\n",
       "      <td>CMR Central</td>\n",
       "      <td>Maddilapalem, Visakhapatnam</td>\n",
       "      <td>2010</td>\n",
       "      <td>350,000 sq ft (33,000 m2)</td>\n",
       "    </tr>\n",
       "    <tr>\n",
       "      <th>2</th>\n",
       "      <td>Trendset Mall</td>\n",
       "      <td>Benz Circle, Vijayawada</td>\n",
       "      <td>2015</td>\n",
       "      <td>450,000 sq ft (42,000 m2)</td>\n",
       "    </tr>\n",
       "    <tr>\n",
       "      <th>3</th>\n",
       "      <td>PVP Square Mall</td>\n",
       "      <td>MG Road, Vijayawada</td>\n",
       "      <td>2014</td>\n",
       "      <td>427,000 sq ft (39,700 m2)</td>\n",
       "    </tr>\n",
       "    <tr>\n",
       "      <th>4</th>\n",
       "      <td>Visakhapatnam Central</td>\n",
       "      <td>Suryabagh, Visakhapatnam</td>\n",
       "      <td>2011</td>\n",
       "      <td>150,000 sq ft (14,000 m2)</td>\n",
       "    </tr>\n",
       "  </tbody>\n",
       "</table>\n",
       "</div>"
      ],
      "text/plain": [
       "                    Name                     Location  Year  \\\n",
       "0      MGB Felicity Mall                      Nellore  2018   \n",
       "1            CMR Central  Maddilapalem, Visakhapatnam  2010   \n",
       "2          Trendset Mall      Benz Circle, Vijayawada  2015   \n",
       "3        PVP Square Mall          MG Road, Vijayawada  2014   \n",
       "4  Visakhapatnam Central     Suryabagh, Visakhapatnam  2011   \n",
       "\n",
       "          Size (Total Area )  \n",
       "0  320,000 sq ft (30,000 m2)  \n",
       "1  350,000 sq ft (33,000 m2)  \n",
       "2  450,000 sq ft (42,000 m2)  \n",
       "3  427,000 sq ft (39,700 m2)  \n",
       "4  150,000 sq ft (14,000 m2)  "
      ]
     },
     "execution_count": 158,
     "metadata": {},
     "output_type": "execute_result"
    }
   ],
   "source": [
    "df.head()"
   ]
  },
  {
   "cell_type": "code",
   "execution_count": 159,
   "id": "15542d40",
   "metadata": {},
   "outputs": [
    {
     "data": {
      "text/plain": [
       "(320, 4)"
      ]
     },
     "execution_count": 159,
     "metadata": {},
     "output_type": "execute_result"
    }
   ],
   "source": [
    "df.shape"
   ]
  },
  {
   "cell_type": "code",
   "execution_count": 160,
   "id": "d63fce3c",
   "metadata": {},
   "outputs": [
    {
     "data": {
      "text/plain": [
       "Index(['Name', 'Location', 'Year', 'Size (Total Area )'], dtype='object')"
      ]
     },
     "execution_count": 160,
     "metadata": {},
     "output_type": "execute_result"
    }
   ],
   "source": [
    "df.columns"
   ]
  },
  {
   "cell_type": "code",
   "execution_count": 161,
   "id": "4725e846",
   "metadata": {},
   "outputs": [
    {
     "name": "stdout",
     "output_type": "stream",
     "text": [
      "<class 'pandas.core.frame.DataFrame'>\n",
      "RangeIndex: 320 entries, 0 to 319\n",
      "Data columns (total 4 columns):\n",
      " #   Column              Non-Null Count  Dtype \n",
      "---  ------              --------------  ----- \n",
      " 0   Name                320 non-null    object\n",
      " 1   Location            320 non-null    object\n",
      " 2   Year                308 non-null    object\n",
      " 3   Size (Total Area )  312 non-null    object\n",
      "dtypes: object(4)\n",
      "memory usage: 10.1+ KB\n"
     ]
    }
   ],
   "source": [
    "df.info()"
   ]
  },
  {
   "cell_type": "code",
   "execution_count": 182,
   "id": "ae7e7df2",
   "metadata": {},
   "outputs": [
    {
     "data": {
      "text/html": [
       "<div>\n",
       "<style scoped>\n",
       "    .dataframe tbody tr th:only-of-type {\n",
       "        vertical-align: middle;\n",
       "    }\n",
       "\n",
       "    .dataframe tbody tr th {\n",
       "        vertical-align: top;\n",
       "    }\n",
       "\n",
       "    .dataframe thead th {\n",
       "        text-align: right;\n",
       "    }\n",
       "</style>\n",
       "<table border=\"1\" class=\"dataframe\">\n",
       "  <thead>\n",
       "    <tr style=\"text-align: right;\">\n",
       "      <th></th>\n",
       "      <th>count</th>\n",
       "      <th>unique</th>\n",
       "      <th>top</th>\n",
       "      <th>freq</th>\n",
       "    </tr>\n",
       "  </thead>\n",
       "  <tbody>\n",
       "    <tr>\n",
       "      <th>Mall_Name</th>\n",
       "      <td>320</td>\n",
       "      <td>318</td>\n",
       "      <td>City Centre Mall</td>\n",
       "      <td>2</td>\n",
       "    </tr>\n",
       "    <tr>\n",
       "      <th>Location</th>\n",
       "      <td>320</td>\n",
       "      <td>270</td>\n",
       "      <td>Sector-10, Rohini</td>\n",
       "      <td>6</td>\n",
       "    </tr>\n",
       "    <tr>\n",
       "      <th>Year Opened</th>\n",
       "      <td>320</td>\n",
       "      <td>30</td>\n",
       "      <td>2011</td>\n",
       "      <td>32</td>\n",
       "    </tr>\n",
       "    <tr>\n",
       "      <th>Gross Leasable Area</th>\n",
       "      <td>320</td>\n",
       "      <td>142</td>\n",
       "      <td>600,000 sq ft (56,000 m2)</td>\n",
       "      <td>15</td>\n",
       "    </tr>\n",
       "  </tbody>\n",
       "</table>\n",
       "</div>"
      ],
      "text/plain": [
       "                    count unique                        top freq\n",
       "Mall_Name             320    318           City Centre Mall    2\n",
       "Location              320    270          Sector-10, Rohini    6\n",
       "Year Opened           320     30                       2011   32\n",
       "Gross Leasable Area   320    142  600,000 sq ft (56,000 m2)   15"
      ]
     },
     "execution_count": 182,
     "metadata": {},
     "output_type": "execute_result"
    }
   ],
   "source": [
    "df.describe().T"
   ]
  },
  {
   "cell_type": "code",
   "execution_count": 186,
   "id": "61e7a01a",
   "metadata": {},
   "outputs": [
    {
     "data": {
      "text/plain": [
       "Mall_Name              0\n",
       "Location               0\n",
       "Year Opened            0\n",
       "Gross Leasable Area    0\n",
       "dtype: int64"
      ]
     },
     "execution_count": 186,
     "metadata": {},
     "output_type": "execute_result"
    }
   ],
   "source": [
    "df.isnull().sum()"
   ]
  },
  {
   "cell_type": "code",
   "execution_count": 187,
   "id": "9f6570b9",
   "metadata": {},
   "outputs": [],
   "source": [
    "df.fillna('None',inplace = True)"
   ]
  },
  {
   "cell_type": "code",
   "execution_count": 188,
   "id": "f8dade46",
   "metadata": {},
   "outputs": [],
   "source": [
    "# df.interpolate('Year')"
   ]
  },
  {
   "cell_type": "code",
   "execution_count": 189,
   "id": "8c96f768",
   "metadata": {},
   "outputs": [
    {
     "data": {
      "text/plain": [
       "Mall_Name              0\n",
       "Location               0\n",
       "Year Opened            0\n",
       "Gross Leasable Area    0\n",
       "dtype: int64"
      ]
     },
     "execution_count": 189,
     "metadata": {},
     "output_type": "execute_result"
    }
   ],
   "source": [
    "df.isnull().sum()"
   ]
  },
  {
   "cell_type": "code",
   "execution_count": 190,
   "id": "5a4ec3e5",
   "metadata": {},
   "outputs": [
    {
     "data": {
      "text/plain": [
       "0"
      ]
     },
     "execution_count": 190,
     "metadata": {},
     "output_type": "execute_result"
    }
   ],
   "source": [
    "df.duplicated().sum()"
   ]
  },
  {
   "cell_type": "code",
   "execution_count": 191,
   "id": "60d058e9",
   "metadata": {},
   "outputs": [],
   "source": [
    "# df['Name'].unique().sum()"
   ]
  },
  {
   "cell_type": "code",
   "execution_count": 192,
   "id": "e7cdb7eb",
   "metadata": {},
   "outputs": [],
   "source": [
    "# df['Location'].unique().sum()"
   ]
  },
  {
   "cell_type": "code",
   "execution_count": 193,
   "id": "7f4332ea",
   "metadata": {},
   "outputs": [
    {
     "data": {
      "text/plain": [
       "Mall_Name              318\n",
       "Location               270\n",
       "Year Opened             30\n",
       "Gross Leasable Area    142\n",
       "dtype: int64"
      ]
     },
     "execution_count": 193,
     "metadata": {},
     "output_type": "execute_result"
    }
   ],
   "source": [
    "df.nunique()"
   ]
  },
  {
   "cell_type": "code",
   "execution_count": 194,
   "id": "29bbddf9",
   "metadata": {},
   "outputs": [
    {
     "data": {
      "text/html": [
       "<div>\n",
       "<style scoped>\n",
       "    .dataframe tbody tr th:only-of-type {\n",
       "        vertical-align: middle;\n",
       "    }\n",
       "\n",
       "    .dataframe tbody tr th {\n",
       "        vertical-align: top;\n",
       "    }\n",
       "\n",
       "    .dataframe thead th {\n",
       "        text-align: right;\n",
       "    }\n",
       "</style>\n",
       "<table border=\"1\" class=\"dataframe\">\n",
       "  <thead>\n",
       "    <tr style=\"text-align: right;\">\n",
       "      <th></th>\n",
       "      <th>Mall_Name</th>\n",
       "      <th>Location</th>\n",
       "      <th>Year Opened</th>\n",
       "      <th>Gross Leasable Area</th>\n",
       "    </tr>\n",
       "  </thead>\n",
       "  <tbody>\n",
       "    <tr>\n",
       "      <th>0</th>\n",
       "      <td>MGB Felicity Mall</td>\n",
       "      <td>Nellore</td>\n",
       "      <td>2018</td>\n",
       "      <td>320,000 sq ft (30,000 m2)</td>\n",
       "    </tr>\n",
       "    <tr>\n",
       "      <th>1</th>\n",
       "      <td>CMR Central</td>\n",
       "      <td>Maddilapalem, Visakhapatnam</td>\n",
       "      <td>2010</td>\n",
       "      <td>350,000 sq ft (33,000 m2)</td>\n",
       "    </tr>\n",
       "    <tr>\n",
       "      <th>2</th>\n",
       "      <td>Trendset Mall</td>\n",
       "      <td>Benz Circle, Vijayawada</td>\n",
       "      <td>2015</td>\n",
       "      <td>450,000 sq ft (42,000 m2)</td>\n",
       "    </tr>\n",
       "    <tr>\n",
       "      <th>3</th>\n",
       "      <td>PVP Square Mall</td>\n",
       "      <td>MG Road, Vijayawada</td>\n",
       "      <td>2014</td>\n",
       "      <td>427,000 sq ft (39,700 m2)</td>\n",
       "    </tr>\n",
       "    <tr>\n",
       "      <th>4</th>\n",
       "      <td>Visakhapatnam Central</td>\n",
       "      <td>Suryabagh, Visakhapatnam</td>\n",
       "      <td>2011</td>\n",
       "      <td>150,000 sq ft (14,000 m2)</td>\n",
       "    </tr>\n",
       "    <tr>\n",
       "      <th>...</th>\n",
       "      <td>...</td>\n",
       "      <td>...</td>\n",
       "      <td>...</td>\n",
       "      <td>...</td>\n",
       "    </tr>\n",
       "    <tr>\n",
       "      <th>315</th>\n",
       "      <td>Central Mall, New Town</td>\n",
       "      <td>Action Area-1, New Town, Kolkata</td>\n",
       "      <td>2017</td>\n",
       "      <td>100,000 sq ft (9,300 m2)</td>\n",
       "    </tr>\n",
       "    <tr>\n",
       "      <th>316</th>\n",
       "      <td>E Mall, Kolkata</td>\n",
       "      <td>Chandni Chowk, Dharmatala, Kolkata</td>\n",
       "      <td>None</td>\n",
       "      <td>80,000 sq ft (7,400 m2)</td>\n",
       "    </tr>\n",
       "    <tr>\n",
       "      <th>317</th>\n",
       "      <td>Silver Arcade</td>\n",
       "      <td>Mathpukur, EM Bypass, Kolkata</td>\n",
       "      <td>None</td>\n",
       "      <td>80,000 sq ft (7,400 m2)</td>\n",
       "    </tr>\n",
       "    <tr>\n",
       "      <th>318</th>\n",
       "      <td>Homeland Mall</td>\n",
       "      <td>Ashutosh Mukherjee Road, Kolkata</td>\n",
       "      <td>None</td>\n",
       "      <td>8,000 sq ft (740 m2)</td>\n",
       "    </tr>\n",
       "    <tr>\n",
       "      <th>319</th>\n",
       "      <td>Metro Central Mall</td>\n",
       "      <td>New Market, Dharmatala, Kolkata</td>\n",
       "      <td>2019</td>\n",
       "      <td>50,000 sq ft (4,600 m2)</td>\n",
       "    </tr>\n",
       "  </tbody>\n",
       "</table>\n",
       "<p>320 rows × 4 columns</p>\n",
       "</div>"
      ],
      "text/plain": [
       "                  Mall_Name                            Location Year Opened  \\\n",
       "0         MGB Felicity Mall                             Nellore        2018   \n",
       "1               CMR Central         Maddilapalem, Visakhapatnam        2010   \n",
       "2             Trendset Mall             Benz Circle, Vijayawada        2015   \n",
       "3           PVP Square Mall                 MG Road, Vijayawada        2014   \n",
       "4     Visakhapatnam Central            Suryabagh, Visakhapatnam        2011   \n",
       "..                      ...                                 ...         ...   \n",
       "315  Central Mall, New Town    Action Area-1, New Town, Kolkata        2017   \n",
       "316         E Mall, Kolkata  Chandni Chowk, Dharmatala, Kolkata        None   \n",
       "317           Silver Arcade       Mathpukur, EM Bypass, Kolkata        None   \n",
       "318           Homeland Mall    Ashutosh Mukherjee Road, Kolkata        None   \n",
       "319      Metro Central Mall     New Market, Dharmatala, Kolkata        2019   \n",
       "\n",
       "           Gross Leasable Area  \n",
       "0    320,000 sq ft (30,000 m2)  \n",
       "1    350,000 sq ft (33,000 m2)  \n",
       "2    450,000 sq ft (42,000 m2)  \n",
       "3    427,000 sq ft (39,700 m2)  \n",
       "4    150,000 sq ft (14,000 m2)  \n",
       "..                         ...  \n",
       "315   100,000 sq ft (9,300 m2)  \n",
       "316    80,000 sq ft (7,400 m2)  \n",
       "317    80,000 sq ft (7,400 m2)  \n",
       "318       8,000 sq ft (740 m2)  \n",
       "319    50,000 sq ft (4,600 m2)  \n",
       "\n",
       "[320 rows x 4 columns]"
      ]
     },
     "execution_count": 194,
     "metadata": {},
     "output_type": "execute_result"
    }
   ],
   "source": [
    "df"
   ]
  },
  {
   "cell_type": "code",
   "execution_count": 195,
   "id": "44cff6c5",
   "metadata": {},
   "outputs": [],
   "source": [
    "df.rename(columns = {'Name':'Mall_Name'},inplace=True)"
   ]
  },
  {
   "cell_type": "code",
   "execution_count": 196,
   "id": "fc9b35e8",
   "metadata": {},
   "outputs": [],
   "source": [
    "df.rename(columns = {'Year':'Year Opened'},inplace =True)"
   ]
  },
  {
   "cell_type": "code",
   "execution_count": 197,
   "id": "87ba339c",
   "metadata": {},
   "outputs": [],
   "source": [
    "df.rename(columns = {'Size (Total Area )':'Gross Leasable Area'},inplace = True)"
   ]
  },
  {
   "cell_type": "code",
   "execution_count": 198,
   "id": "a9f7fb51",
   "metadata": {},
   "outputs": [
    {
     "data": {
      "text/html": [
       "<div>\n",
       "<style scoped>\n",
       "    .dataframe tbody tr th:only-of-type {\n",
       "        vertical-align: middle;\n",
       "    }\n",
       "\n",
       "    .dataframe tbody tr th {\n",
       "        vertical-align: top;\n",
       "    }\n",
       "\n",
       "    .dataframe thead th {\n",
       "        text-align: right;\n",
       "    }\n",
       "</style>\n",
       "<table border=\"1\" class=\"dataframe\">\n",
       "  <thead>\n",
       "    <tr style=\"text-align: right;\">\n",
       "      <th></th>\n",
       "      <th>Mall_Name</th>\n",
       "      <th>Location</th>\n",
       "      <th>Year Opened</th>\n",
       "      <th>Gross Leasable Area</th>\n",
       "    </tr>\n",
       "  </thead>\n",
       "  <tbody>\n",
       "    <tr>\n",
       "      <th>0</th>\n",
       "      <td>MGB Felicity Mall</td>\n",
       "      <td>Nellore</td>\n",
       "      <td>2018</td>\n",
       "      <td>320,000 sq ft (30,000 m2)</td>\n",
       "    </tr>\n",
       "    <tr>\n",
       "      <th>1</th>\n",
       "      <td>CMR Central</td>\n",
       "      <td>Maddilapalem, Visakhapatnam</td>\n",
       "      <td>2010</td>\n",
       "      <td>350,000 sq ft (33,000 m2)</td>\n",
       "    </tr>\n",
       "    <tr>\n",
       "      <th>2</th>\n",
       "      <td>Trendset Mall</td>\n",
       "      <td>Benz Circle, Vijayawada</td>\n",
       "      <td>2015</td>\n",
       "      <td>450,000 sq ft (42,000 m2)</td>\n",
       "    </tr>\n",
       "    <tr>\n",
       "      <th>3</th>\n",
       "      <td>PVP Square Mall</td>\n",
       "      <td>MG Road, Vijayawada</td>\n",
       "      <td>2014</td>\n",
       "      <td>427,000 sq ft (39,700 m2)</td>\n",
       "    </tr>\n",
       "    <tr>\n",
       "      <th>4</th>\n",
       "      <td>Visakhapatnam Central</td>\n",
       "      <td>Suryabagh, Visakhapatnam</td>\n",
       "      <td>2011</td>\n",
       "      <td>150,000 sq ft (14,000 m2)</td>\n",
       "    </tr>\n",
       "  </tbody>\n",
       "</table>\n",
       "</div>"
      ],
      "text/plain": [
       "               Mall_Name                     Location Year Opened  \\\n",
       "0      MGB Felicity Mall                      Nellore        2018   \n",
       "1            CMR Central  Maddilapalem, Visakhapatnam        2010   \n",
       "2          Trendset Mall      Benz Circle, Vijayawada        2015   \n",
       "3        PVP Square Mall          MG Road, Vijayawada        2014   \n",
       "4  Visakhapatnam Central     Suryabagh, Visakhapatnam        2011   \n",
       "\n",
       "         Gross Leasable Area  \n",
       "0  320,000 sq ft (30,000 m2)  \n",
       "1  350,000 sq ft (33,000 m2)  \n",
       "2  450,000 sq ft (42,000 m2)  \n",
       "3  427,000 sq ft (39,700 m2)  \n",
       "4  150,000 sq ft (14,000 m2)  "
      ]
     },
     "execution_count": 198,
     "metadata": {},
     "output_type": "execute_result"
    }
   ],
   "source": [
    "df.head()"
   ]
  },
  {
   "cell_type": "code",
   "execution_count": 199,
   "id": "bb362a9b",
   "metadata": {},
   "outputs": [
    {
     "data": {
      "image/png": "[encoded data removed]",
      "text/plain": [
       "<Figure size 432x288 with 1 Axes>"
      ]
     },
     "metadata": {
      "needs_background": "light"
     },
     "output_type": "display_data"
    }
   ],
   "source": [
    "top_Mall_names = df['Mall_Name'].value_counts().head(10)\n",
    "plt.figure_figsize = ()\n",
    "sns.barplot(x = top_Mall_names.values , y = top_Mall_names.index)\n",
    "plt.xlabel('Count')\n",
    "plt.ylabel('Mall_names')\n",
    "plt.title('Top_Mall_Names')\n",
    "plt.show()"
   ]
  },
  {
   "cell_type": "code",
   "execution_count": 200,
   "id": "7abd2710",
   "metadata": {},
   "outputs": [
    {
     "data": {
      "text/plain": [
       "City Centre Mall                 2\n",
       "Celebration Mall                 2\n",
       "World Trade Park, Jaipur         1\n",
       "The Marina Mall                  1\n",
       "Gold Souk Grandé Mall Chennai    1\n",
       "Nexus Vijaya                     1\n",
       "Express Avenue                   1\n",
       "VR Chennai                       1\n",
       "Phoenix Marketcity (Chennai)     1\n",
       "Ansal Royal Plaza                1\n",
       "Name: Mall_Name, dtype: int64"
      ]
     },
     "execution_count": 200,
     "metadata": {},
     "output_type": "execute_result"
    }
   ],
   "source": [
    "top_Mall_names"
   ]
  },
  {
   "cell_type": "code",
   "execution_count": 201,
   "id": "3c73d62b",
   "metadata": {},
   "outputs": [
    {
     "data": {
      "text/html": [
       "<div>\n",
       "<style scoped>\n",
       "    .dataframe tbody tr th:only-of-type {\n",
       "        vertical-align: middle;\n",
       "    }\n",
       "\n",
       "    .dataframe tbody tr th {\n",
       "        vertical-align: top;\n",
       "    }\n",
       "\n",
       "    .dataframe thead th {\n",
       "        text-align: right;\n",
       "    }\n",
       "</style>\n",
       "<table border=\"1\" class=\"dataframe\">\n",
       "  <thead>\n",
       "    <tr style=\"text-align: right;\">\n",
       "      <th></th>\n",
       "      <th>Mall_Name</th>\n",
       "      <th>Location</th>\n",
       "      <th>Year Opened</th>\n",
       "      <th>Gross Leasable Area</th>\n",
       "    </tr>\n",
       "  </thead>\n",
       "  <tbody>\n",
       "    <tr>\n",
       "      <th>0</th>\n",
       "      <td>MGB Felicity Mall</td>\n",
       "      <td>Nellore</td>\n",
       "      <td>2018</td>\n",
       "      <td>320,000 sq ft (30,000 m2)</td>\n",
       "    </tr>\n",
       "    <tr>\n",
       "      <th>1</th>\n",
       "      <td>CMR Central</td>\n",
       "      <td>Maddilapalem, Visakhapatnam</td>\n",
       "      <td>2010</td>\n",
       "      <td>350,000 sq ft (33,000 m2)</td>\n",
       "    </tr>\n",
       "    <tr>\n",
       "      <th>2</th>\n",
       "      <td>Trendset Mall</td>\n",
       "      <td>Benz Circle, Vijayawada</td>\n",
       "      <td>2015</td>\n",
       "      <td>450,000 sq ft (42,000 m2)</td>\n",
       "    </tr>\n",
       "    <tr>\n",
       "      <th>3</th>\n",
       "      <td>PVP Square Mall</td>\n",
       "      <td>MG Road, Vijayawada</td>\n",
       "      <td>2014</td>\n",
       "      <td>427,000 sq ft (39,700 m2)</td>\n",
       "    </tr>\n",
       "    <tr>\n",
       "      <th>4</th>\n",
       "      <td>Visakhapatnam Central</td>\n",
       "      <td>Suryabagh, Visakhapatnam</td>\n",
       "      <td>2011</td>\n",
       "      <td>150,000 sq ft (14,000 m2)</td>\n",
       "    </tr>\n",
       "  </tbody>\n",
       "</table>\n",
       "</div>"
      ],
      "text/plain": [
       "               Mall_Name                     Location Year Opened  \\\n",
       "0      MGB Felicity Mall                      Nellore        2018   \n",
       "1            CMR Central  Maddilapalem, Visakhapatnam        2010   \n",
       "2          Trendset Mall      Benz Circle, Vijayawada        2015   \n",
       "3        PVP Square Mall          MG Road, Vijayawada        2014   \n",
       "4  Visakhapatnam Central     Suryabagh, Visakhapatnam        2011   \n",
       "\n",
       "         Gross Leasable Area  \n",
       "0  320,000 sq ft (30,000 m2)  \n",
       "1  350,000 sq ft (33,000 m2)  \n",
       "2  450,000 sq ft (42,000 m2)  \n",
       "3  427,000 sq ft (39,700 m2)  \n",
       "4  150,000 sq ft (14,000 m2)  "
      ]
     },
     "execution_count": 201,
     "metadata": {},
     "output_type": "execute_result"
    }
   ],
   "source": [
    "df.head()"
   ]
  },
  {
   "cell_type": "code",
   "execution_count": 202,
   "id": "a0da07ea",
   "metadata": {},
   "outputs": [
    {
     "data": {
      "text/plain": [
       "0                                 Nellore\n",
       "1             Maddilapalem, Visakhapatnam\n",
       "2                 Benz Circle, Vijayawada\n",
       "3                     MG Road, Vijayawada\n",
       "4                Suryabagh, Visakhapatnam\n",
       "                      ...                \n",
       "315      Action Area-1, New Town, Kolkata\n",
       "316    Chandni Chowk, Dharmatala, Kolkata\n",
       "317         Mathpukur, EM Bypass, Kolkata\n",
       "318      Ashutosh Mukherjee Road, Kolkata\n",
       "319       New Market, Dharmatala, Kolkata\n",
       "Name: Location, Length: 320, dtype: object"
      ]
     },
     "execution_count": 202,
     "metadata": {},
     "output_type": "execute_result"
    }
   ],
   "source": [
    "df['Location']"
   ]
  },
  {
   "cell_type": "code",
   "execution_count": 155,
   "id": "9f33ec00",
   "metadata": {
    "scrolled": false
   },
   "outputs": [],
   "source": [
    "#new = df[\"Location\"].str.split(\",\", n = 1, expand = True)"
   ]
  },
  {
   "cell_type": "code",
   "execution_count": 138,
   "id": "e60f1a37",
   "metadata": {},
   "outputs": [],
   "source": [
    "#new.rename(columns = {'0':'City'},inplace=True)"
   ]
  },
  {
   "cell_type": "code",
   "execution_count": 146,
   "id": "aafba37c",
   "metadata": {},
   "outputs": [],
   "source": [
    "#address = ['new.rename']"
   ]
  },
  {
   "cell_type": "code",
   "execution_count": 211,
   "id": "00e42e9d",
   "metadata": {},
   "outputs": [
    {
     "data": {
      "image/png": "[encoded data removed]",
      "text/plain": [
       "<Figure size 720x720 with 1 Axes>"
      ]
     },
     "metadata": {
      "needs_background": "light"
     },
     "output_type": "display_data"
    }
   ],
   "source": [
    "top_Locations = df['Location'].value_counts().head(10)\n",
    "plt.figure(figsize = (10,10))\n",
    "sns.barplot(x = top_Locations.values, y = top_Locations.index)\n",
    "plt.xlabel('Count')\n",
    "plt.ylabel('Locations')\n",
    "plt.title('Top_Locationso in The India')\n",
    "plt.show()"
   ]
  },
  {
   "cell_type": "code",
   "execution_count": 212,
   "id": "b226c6aa",
   "metadata": {},
   "outputs": [
    {
     "data": {
      "text/html": [
       "<div>\n",
       "<style scoped>\n",
       "    .dataframe tbody tr th:only-of-type {\n",
       "        vertical-align: middle;\n",
       "    }\n",
       "\n",
       "    .dataframe tbody tr th {\n",
       "        vertical-align: top;\n",
       "    }\n",
       "\n",
       "    .dataframe thead th {\n",
       "        text-align: right;\n",
       "    }\n",
       "</style>\n",
       "<table border=\"1\" class=\"dataframe\">\n",
       "  <thead>\n",
       "    <tr style=\"text-align: right;\">\n",
       "      <th></th>\n",
       "      <th>Mall_Name</th>\n",
       "      <th>Location</th>\n",
       "      <th>Year Opened</th>\n",
       "      <th>Gross Leasable Area</th>\n",
       "    </tr>\n",
       "  </thead>\n",
       "  <tbody>\n",
       "    <tr>\n",
       "      <th>0</th>\n",
       "      <td>MGB Felicity Mall</td>\n",
       "      <td>Nellore</td>\n",
       "      <td>2018</td>\n",
       "      <td>320,000 sq ft (30,000 m2)</td>\n",
       "    </tr>\n",
       "    <tr>\n",
       "      <th>1</th>\n",
       "      <td>CMR Central</td>\n",
       "      <td>Maddilapalem, Visakhapatnam</td>\n",
       "      <td>2010</td>\n",
       "      <td>350,000 sq ft (33,000 m2)</td>\n",
       "    </tr>\n",
       "    <tr>\n",
       "      <th>2</th>\n",
       "      <td>Trendset Mall</td>\n",
       "      <td>Benz Circle, Vijayawada</td>\n",
       "      <td>2015</td>\n",
       "      <td>450,000 sq ft (42,000 m2)</td>\n",
       "    </tr>\n",
       "    <tr>\n",
       "      <th>3</th>\n",
       "      <td>PVP Square Mall</td>\n",
       "      <td>MG Road, Vijayawada</td>\n",
       "      <td>2014</td>\n",
       "      <td>427,000 sq ft (39,700 m2)</td>\n",
       "    </tr>\n",
       "    <tr>\n",
       "      <th>4</th>\n",
       "      <td>Visakhapatnam Central</td>\n",
       "      <td>Suryabagh, Visakhapatnam</td>\n",
       "      <td>2011</td>\n",
       "      <td>150,000 sq ft (14,000 m2)</td>\n",
       "    </tr>\n",
       "  </tbody>\n",
       "</table>\n",
       "</div>"
      ],
      "text/plain": [
       "               Mall_Name                     Location Year Opened  \\\n",
       "0      MGB Felicity Mall                      Nellore        2018   \n",
       "1            CMR Central  Maddilapalem, Visakhapatnam        2010   \n",
       "2          Trendset Mall      Benz Circle, Vijayawada        2015   \n",
       "3        PVP Square Mall          MG Road, Vijayawada        2014   \n",
       "4  Visakhapatnam Central     Suryabagh, Visakhapatnam        2011   \n",
       "\n",
       "         Gross Leasable Area  \n",
       "0  320,000 sq ft (30,000 m2)  \n",
       "1  350,000 sq ft (33,000 m2)  \n",
       "2  450,000 sq ft (42,000 m2)  \n",
       "3  427,000 sq ft (39,700 m2)  \n",
       "4  150,000 sq ft (14,000 m2)  "
      ]
     },
     "execution_count": 212,
     "metadata": {},
     "output_type": "execute_result"
    }
   ],
   "source": [
    "df.head()"
   ]
  },
  {
   "cell_type": "code",
   "execution_count": 242,
   "id": "132d0057",
   "metadata": {},
   "outputs": [
    {
     "data": {
      "text/plain": [
       "<AxesSubplot:xlabel='Gross Leasable Area', ylabel='count'>"
      ]
     },
     "execution_count": 242,
     "metadata": {},
     "output_type": "execute_result"
    },
    {
     "data": {
      "image/png": "[encoded data removed]",
      "text/plain": [
       "<Figure size 432x288 with 1 Axes>"
      ]
     },
     "metadata": {
      "needs_background": "light"
     },
     "output_type": "display_data"
    }
   ],
   "source": [
    "sns.countplot(x = \"Gross Leasable Area\" , data = df)"
   ]
  },
  {
   "cell_type": "code",
   "execution_count": 240,
   "id": "eaaf3792",
   "metadata": {},
   "outputs": [
    {
     "data": {
      "text/plain": [
       "Text(0.5, 1.0, 'Distribution of Top 10 year Opened MAll')"
      ]
     },
     "execution_count": 240,
     "metadata": {},
     "output_type": "execute_result"
    },
    {
     "data": {
      "image/png": "[encoded data removed]",
      "text/plain": [
       "<Figure size 432x432 with 1 Axes>"
      ]
     },
     "metadata": {
      "needs_background": "light"
     },
     "output_type": "display_data"
    }
   ],
   "source": [
    "Top_Year_Opened = df['Year Opened'].value_counts().head(10)\n",
    "plt.figure(figsize = (6,6))\n",
    "sns.barplot(x = Top_Year_Opened.index, y = Top_Year_Opened.values)\n",
    "plt.xlabel('Year Opened')\n",
    "plt.ylabel('count')\n",
    "plt.title('Distribution of Top 10 year Opened MAll')"
   ]
  },
  {
   "cell_type": "code",
   "execution_count": 241,
   "id": "274795d6",
   "metadata": {},
   "outputs": [
    {
     "data": {
      "text/plain": [
       "Text(0.5, 1.0, 'Distribution of Top 10 year Opened')"
      ]
     },
     "execution_count": 241,
     "metadata": {},
     "output_type": "execute_result"
    },
    {
     "data": {
      "image/png": "[encoded data removed]",
      "text/plain": [
       "<Figure size 432x432 with 1 Axes>"
      ]
     },
     "metadata": {
      "needs_background": "light"
     },
     "output_type": "display_data"
    }
   ],
   "source": [
    "Top_Year_Opened = df['Year Opened'].value_counts().head(10)\n",
    "plt.figure(figsize = (6,6))\n",
    "sns.countplot(x = Top_Year_Opened ,data = df)\n",
    "plt.xlabel('Year Opened')\n",
    "plt.ylabel('count')\n",
    "plt.title('Distribution of Top 10 year Opened')"
   ]
  },
  {
   "cell_type": "code",
   "execution_count": null,
   "id": "73f7305c",
   "metadata": {},
   "outputs": [],
   "source": []
  },
  {
   "cell_type": "code",
   "execution_count": null,
   "id": "d7c77d06",
   "metadata": {},
   "outputs": [],
   "source": []
  }
 ],
 "metadata": {
  "kernelspec": {
   "display_name": "Python 3 (ipykernel)",
   "language": "python",
   "name": "python3"
  },
  "language_info": {
   "codemirror_mode": {
    "name": "ipython",
    "version": 3
   },
   "file_extension": ".py",
   "mimetype": "text/x-python",
   "name": "python",
   "nbconvert_exporter": "python",
   "pygments_lexer": "ipython3",
   "version": "3.9.7"
  }
 },
 "nbformat": 4,
 "nbformat_minor": 5
}
